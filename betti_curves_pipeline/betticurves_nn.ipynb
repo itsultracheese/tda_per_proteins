{
 "cells": [
  {
   "cell_type": "code",
   "execution_count": 1,
   "metadata": {},
   "outputs": [],
   "source": [
    "import os\n",
    "import pickle\n",
    "import numpy as np\n",
    "from tqdm.notebook import tqdm\n",
    "\n",
    "from scripts.helper_scripts.f1_max_score import count_f1_max\n",
    "\n",
    "import torch\n",
    "import torch.nn as nn\n",
    "import torch.nn.functional as F"
   ]
  },
  {
   "cell_type": "code",
   "execution_count": 2,
   "metadata": {},
   "outputs": [],
   "source": [
    "train_folder = '/media/ssd-3t-2/amiftakhova/tda_proteins/processed_train/betticurves'\n",
    "test_folder = '/media/ssd-3t-2/amiftakhova/tda_proteins/processed_test/betticurves'\n",
    "\n",
    "train_files = [x for x in os.listdir(train_folder) if 'bins80' in x]\n",
    "test_files = [x for x in os.listdir(test_folder) if 'bins80' in x]\n",
    "\n",
    "train_features = []\n",
    "train_features_layer = []\n",
    "train_labels_mf = []\n",
    "train_labels_cc = []\n",
    "train_labels_bp = []\n",
    "for train_file in train_files:\n",
    "    try:\n",
    "        with open(os.path.join(train_folder, train_file), 'rb') as f:\n",
    "            data = pickle.load(f)\n",
    "            train_features.append(data['betticurves'].flatten())\n",
    "            bc = data['betticurves'].reshape((33, 20, -1))\n",
    "            train_features_layer.append(bc.sum(axis=1).flatten())\n",
    "            train_labels_mf.append(data['label_MF'])\n",
    "            train_labels_cc.append(data['label_CC'])\n",
    "            train_labels_bp.append(data['label_BP'])\n",
    "    except Exception as e:\n",
    "        print(e)\n",
    "        print('File:', train_file)\n",
    "        print()\n",
    "\n",
    "train_labels_mf = np.array(train_labels_mf)\n",
    "train_labels_cc = np.array(train_labels_cc)\n",
    "train_labels_bp = np.array(train_labels_bp)\n",
    "\n",
    "test_features = []\n",
    "test_features_layer = []\n",
    "test_labels_mf = []\n",
    "test_labels_cc = []\n",
    "test_labels_bp = []\n",
    "for test_file in test_files:\n",
    "    with open(os.path.join(test_folder, test_file), 'rb') as f:\n",
    "        data = pickle.load(f)\n",
    "        test_features.append(data['betticurves'].flatten())\n",
    "        bc = data['betticurves'].reshape((33, 20, -1))\n",
    "        test_features_layer.append(bc.sum(axis=1).flatten())\n",
    "        test_labels_mf.append(data['label_MF'])\n",
    "        test_labels_cc.append(data['label_CC'])\n",
    "        test_labels_bp.append(data['label_BP'])\n",
    "test_labels_mf = np.array(test_labels_mf)\n",
    "test_labels_cc = np.array(test_labels_cc)\n",
    "test_labels_bp = np.array(test_labels_bp)"
   ]
  },
  {
   "cell_type": "code",
   "execution_count": 3,
   "metadata": {},
   "outputs": [
    {
     "name": "stdout",
     "output_type": "stream",
     "text": [
      "26225\n",
      "3350\n"
     ]
    }
   ],
   "source": [
    "print(len(train_features))\n",
    "print(len(test_features))"
   ]
  },
  {
   "cell_type": "code",
   "execution_count": 12,
   "metadata": {},
   "outputs": [],
   "source": [
    "class Baseline(nn.Module):\n",
    "    def __init__(self, input_size, output_size):\n",
    "        super(Baseline, self).__init__()\n",
    "        self.fc1 = nn.Linear(input_size, 1024)\n",
    "        self.bn1 = nn.BatchNorm1d(1024)\n",
    "        self.dropout1 = nn.Dropout(0.2)\n",
    "        self.fc2 = nn.Linear(1024, 512)\n",
    "        self.bn2 = nn.BatchNorm1d(512)\n",
    "        self.dropout2 = nn.Dropout(0.2)\n",
    "        self.fc3 = nn.Linear(512, output_size)\n",
    "\n",
    "    def forward(self, x):\n",
    "        x = F.relu(self.fc1(x))\n",
    "        x = self.bn1(x)\n",
    "        x = self.dropout1(x)\n",
    "        x = F.relu(self.fc2(x))\n",
    "        x = self.bn2(x)\n",
    "        x = self.dropout2(x)\n",
    "        x = self.fc3(x)\n",
    "        return x"
   ]
  },
  {
   "cell_type": "code",
   "execution_count": 19,
   "metadata": {},
   "outputs": [],
   "source": [
    "def train_epoch(model, train_loader, optimizer, criterion, cuda=True):\n",
    "    model.train()\n",
    "    train_loss = 0\n",
    "    for i, (inputs, labels) in enumerate(train_loader):\n",
    "        optimizer.zero_grad()\n",
    "        if cuda:\n",
    "            inputs = inputs.cuda()\n",
    "            labels = labels.cuda()\n",
    "        outputs = model(inputs)\n",
    "        loss = criterion(outputs, labels)\n",
    "        loss.backward()\n",
    "        optimizer.step()\n",
    "        train_loss += loss.cpu().item()\n",
    "    return train_loss / len(train_loader)\n",
    "\n",
    "def evaluate(model, test_loader, criterion, cuda=True, length=1261):\n",
    "    model.eval()\n",
    "    test_loss = 0\n",
    "    preds = []\n",
    "    labels_gt = []\n",
    "    with torch.no_grad():\n",
    "        for i, (inputs, labels) in enumerate(test_loader):\n",
    "            if cuda:\n",
    "                inputs = inputs.cuda()\n",
    "            outputs = model(inputs)\n",
    "            preds.extend(F.sigmoid(outputs).cpu().numpy())\n",
    "            labels_gt.extend(labels.cpu().numpy())\n",
    "    return count_f1_max(np.array(preds).reshape(-1, length), np.array(labels_gt).reshape(-1, length))\n",
    "\n",
    "def train(model, train_loader, test_loader, optimizer, criterion, epochs, cuda=True, scheduler=None, length=1261):\n",
    "    losses = []\n",
    "    for epoch in tqdm(range(epochs)):\n",
    "        train_loss = train_epoch(model, train_loader, optimizer, criterion, cuda)\n",
    "        valid_f1 = evaluate(model, test_loader, criterion, cuda, length)\n",
    "        if scheduler is not None:\n",
    "            scheduler.step(valid_f1)\n",
    "        losses.append(train_loss)\n",
    "        print(f'Epoch {epoch+1}/{epochs}, Train Loss: {train_loss:.4f}, Valid F1: {valid_f1:.4f}')\n",
    "    return losses"
   ]
  },
  {
   "cell_type": "code",
   "execution_count": 20,
   "metadata": {},
   "outputs": [
    {
     "data": {
      "application/vnd.jupyter.widget-view+json": {
       "model_id": "f3ed0daa089b46d4ae59e57f891b0fdc",
       "version_major": 2,
       "version_minor": 0
      },
      "text/plain": [
       "  0%|          | 0/50 [00:00<?, ?it/s]"
      ]
     },
     "metadata": {},
     "output_type": "display_data"
    },
    {
     "name": "stdout",
     "output_type": "stream",
     "text": [
      "Epoch 1/50, Train Loss: 0.6937, Valid F1: 0.1277\n",
      "Epoch 2/50, Train Loss: 0.5774, Valid F1: 0.1430\n",
      "Epoch 3/50, Train Loss: 0.3291, Valid F1: 0.1537\n",
      "Epoch 4/50, Train Loss: 0.1610, Valid F1: 0.1591\n",
      "Epoch 5/50, Train Loss: 0.0955, Valid F1: 0.1576\n",
      "Epoch 6/50, Train Loss: 0.0693, Valid F1: 0.1582\n",
      "Epoch 7/50, Train Loss: 0.0580, Valid F1: 0.1586\n",
      "Epoch 8/50, Train Loss: 0.0526, Valid F1: 0.1622\n",
      "Epoch 9/50, Train Loss: 0.0491, Valid F1: 0.1594\n",
      "Epoch 10/50, Train Loss: 0.0476, Valid F1: 0.1580\n",
      "Epoch 11/50, Train Loss: 0.0462, Valid F1: 0.1600\n",
      "Epoch 12/50, Train Loss: 0.0454, Valid F1: 0.1592\n",
      "Epoch 13/50, Train Loss: 0.0448, Valid F1: 0.1620\n",
      "Epoch 14/50, Train Loss: 0.0445, Valid F1: 0.1626\n",
      "Epoch 15/50, Train Loss: 0.0442, Valid F1: 0.1613\n",
      "Epoch 16/50, Train Loss: 0.0440, Valid F1: 0.1619\n",
      "Epoch 17/50, Train Loss: 0.0436, Valid F1: 0.1629\n",
      "Epoch 18/50, Train Loss: 0.0435, Valid F1: 0.1681\n",
      "Epoch 19/50, Train Loss: 0.0432, Valid F1: 0.1598\n",
      "Epoch 20/50, Train Loss: 0.0432, Valid F1: 0.1684\n",
      "Epoch 21/50, Train Loss: 0.0428, Valid F1: 0.1585\n",
      "Epoch 22/50, Train Loss: 0.0425, Valid F1: 0.1819\n",
      "Epoch 23/50, Train Loss: 0.0422, Valid F1: 0.1655\n",
      "Epoch 24/50, Train Loss: 0.0421, Valid F1: 0.1729\n",
      "Epoch 25/50, Train Loss: 0.0423, Valid F1: 0.1883\n",
      "Epoch 26/50, Train Loss: 0.0418, Valid F1: 0.1748\n",
      "Epoch 27/50, Train Loss: 0.0417, Valid F1: 0.1602\n",
      "Epoch 28/50, Train Loss: 0.0416, Valid F1: 0.1680\n",
      "Epoch 29/50, Train Loss: 0.0415, Valid F1: 0.1923\n",
      "Epoch 30/50, Train Loss: 0.0412, Valid F1: 0.2012\n",
      "Epoch 31/50, Train Loss: 0.0409, Valid F1: 0.1739\n",
      "Epoch 32/50, Train Loss: 0.0408, Valid F1: 0.1706\n",
      "Epoch 33/50, Train Loss: 0.0406, Valid F1: 0.1751\n",
      "Epoch 34/50, Train Loss: 0.0404, Valid F1: 0.2064\n",
      "Epoch 35/50, Train Loss: 0.0404, Valid F1: 0.1906\n",
      "Epoch 36/50, Train Loss: 0.0403, Valid F1: 0.2081\n",
      "Epoch 37/50, Train Loss: 0.0402, Valid F1: 0.2123\n",
      "Epoch 38/50, Train Loss: 0.0400, Valid F1: 0.1884\n",
      "Epoch 39/50, Train Loss: 0.0399, Valid F1: 0.2031\n",
      "Epoch 40/50, Train Loss: 0.0401, Valid F1: 0.1955\n",
      "Epoch 41/50, Train Loss: 0.0401, Valid F1: 0.2140\n",
      "Epoch 42/50, Train Loss: 0.0400, Valid F1: 0.1951\n",
      "Epoch 43/50, Train Loss: 0.0399, Valid F1: 0.1948\n",
      "Epoch 44/50, Train Loss: 0.0407, Valid F1: 0.1847\n",
      "Epoch 45/50, Train Loss: 0.0411, Valid F1: 0.1625\n",
      "Epoch 46/50, Train Loss: 0.0411, Valid F1: 0.1987\n",
      "Epoch 47/50, Train Loss: 0.0409, Valid F1: 0.1977\n",
      "Epoch 48/50, Train Loss: 0.0407, Valid F1: 0.1827\n",
      "Epoch 49/50, Train Loss: 0.0407, Valid F1: 0.1916\n",
      "Epoch 50/50, Train Loss: 0.0407, Valid F1: 0.1741\n"
     ]
    }
   ],
   "source": [
    "LR = 1e-4\n",
    "BATCH_SIZE = 128\n",
    "\n",
    "train_loader = torch.utils.data.DataLoader(torch.utils.data.TensorDataset(torch.Tensor(train_features_layer), torch.Tensor(train_labels_mf)), batch_size=BATCH_SIZE, shuffle=True)\n",
    "valid_loader = torch.utils.data.DataLoader(torch.utils.data.TensorDataset(torch.Tensor(test_features_layer), torch.Tensor(test_labels_mf)), batch_size=BATCH_SIZE, shuffle=False)\n",
    "test_loader = torch.utils.data.DataLoader(torch.utils.data.TensorDataset(torch.Tensor(test_features_layer), torch.Tensor(test_labels_mf)), batch_size=BATCH_SIZE, shuffle=False)\n",
    "\n",
    "out_features = len(test_labels_mf[0])\n",
    "model_mf = Baseline(len(train_features_layer[0]), out_features).cuda()\n",
    "optimizer = torch.optim.Adam(model_mf.parameters(), lr=LR)\n",
    "criterion = nn.BCEWithLogitsLoss()\n",
    "scheduler = torch.optim.lr_scheduler.ReduceLROnPlateau(optimizer, mode='max', factor=0.5, patience=3)\n",
    "\n",
    "losses = train(model_mf, train_loader, valid_loader, optimizer, criterion, epochs=50, length=len(test_labels_mf))\n",
    "\n",
    "f1_test = evaluate(model_mf, test_loader, criterion, cuda=True, length=len(test_labels_mf))"
   ]
  },
  {
   "cell_type": "code",
   "execution_count": 21,
   "metadata": {},
   "outputs": [
    {
     "name": "stdout",
     "output_type": "stream",
     "text": [
      "0.17409886419773102\n"
     ]
    },
    {
     "data": {
      "image/png": "[encoded data removed]",
      "text/plain": [
       "<Figure size 640x480 with 1 Axes>"
      ]
     },
     "metadata": {},
     "output_type": "display_data"
    }
   ],
   "source": [
    "import matplotlib.pyplot as plt\n",
    "\n",
    "print(f1_test)\n",
    "\n",
    "plt.plot(range(len(losses)), losses)\n",
    "plt.xlabel('Epoch')\n",
    "plt.ylabel('Loss')\n",
    "plt.title('Training Loss, MF')\n",
    "plt.show()"
   ]
  },
  {
   "cell_type": "code",
   "execution_count": 22,
   "metadata": {},
   "outputs": [
    {
     "data": {
      "application/vnd.jupyter.widget-view+json": {
       "model_id": "d00d3493034244c9a0f93f0c2c7d0e93",
       "version_major": 2,
       "version_minor": 0
      },
      "text/plain": [
       "  0%|          | 0/50 [00:00<?, ?it/s]"
      ]
     },
     "metadata": {},
     "output_type": "display_data"
    },
    {
     "name": "stdout",
     "output_type": "stream",
     "text": [
      "Epoch 1/50, Train Loss: 0.6921, Valid F1: 0.1133\n",
      "Epoch 2/50, Train Loss: 0.5738, Valid F1: 0.1941\n",
      "Epoch 3/50, Train Loss: 0.3248, Valid F1: 0.2702\n",
      "Epoch 4/50, Train Loss: 0.1545, Valid F1: 0.2720\n",
      "Epoch 5/50, Train Loss: 0.0868, Valid F1: 0.2658\n",
      "Epoch 6/50, Train Loss: 0.0602, Valid F1: 0.2835\n",
      "Epoch 7/50, Train Loss: 0.0480, Valid F1: 0.2892\n",
      "Epoch 8/50, Train Loss: 0.0419, Valid F1: 0.2868\n",
      "Epoch 9/50, Train Loss: 0.0384, Valid F1: 0.2733\n",
      "Epoch 10/50, Train Loss: 0.0363, Valid F1: 0.2712\n",
      "Epoch 11/50, Train Loss: 0.0349, Valid F1: 0.2818\n",
      "Epoch 12/50, Train Loss: 0.0339, Valid F1: 0.2853\n",
      "Epoch 13/50, Train Loss: 0.0334, Valid F1: 0.2874\n",
      "Epoch 14/50, Train Loss: 0.0329, Valid F1: 0.2900\n",
      "Epoch 15/50, Train Loss: 0.0325, Valid F1: 0.2861\n",
      "Epoch 16/50, Train Loss: 0.0323, Valid F1: 0.2885\n",
      "Epoch 17/50, Train Loss: 0.0322, Valid F1: 0.2899\n",
      "Epoch 18/50, Train Loss: 0.0322, Valid F1: 0.2793\n",
      "Epoch 19/50, Train Loss: 0.0318, Valid F1: 0.2717\n",
      "Epoch 20/50, Train Loss: 0.0317, Valid F1: 0.2501\n",
      "Epoch 21/50, Train Loss: 0.0313, Valid F1: 0.2826\n",
      "Epoch 22/50, Train Loss: 0.0312, Valid F1: 0.2840\n",
      "Epoch 23/50, Train Loss: 0.0309, Valid F1: 0.2655\n",
      "Epoch 24/50, Train Loss: 0.0309, Valid F1: 0.2881\n",
      "Epoch 25/50, Train Loss: 0.0305, Valid F1: 0.2872\n",
      "Epoch 26/50, Train Loss: 0.0305, Valid F1: 0.2872\n",
      "Epoch 27/50, Train Loss: 0.0302, Valid F1: 0.2903\n",
      "Epoch 28/50, Train Loss: 0.0307, Valid F1: 0.2839\n",
      "Epoch 29/50, Train Loss: 0.0302, Valid F1: 0.2813\n",
      "Epoch 30/50, Train Loss: 0.0304, Valid F1: 0.2711\n",
      "Epoch 31/50, Train Loss: 0.0300, Valid F1: 0.2726\n",
      "Epoch 32/50, Train Loss: 0.0302, Valid F1: 0.2919\n",
      "Epoch 33/50, Train Loss: 0.0298, Valid F1: 0.2815\n",
      "Epoch 34/50, Train Loss: 0.0300, Valid F1: 0.2617\n",
      "Epoch 35/50, Train Loss: 0.0300, Valid F1: 0.2890\n",
      "Epoch 36/50, Train Loss: 0.0299, Valid F1: 0.2515\n",
      "Epoch 37/50, Train Loss: 0.0309, Valid F1: 0.2791\n",
      "Epoch 38/50, Train Loss: 0.0306, Valid F1: 0.2886\n",
      "Epoch 39/50, Train Loss: 0.0302, Valid F1: 0.2745\n",
      "Epoch 40/50, Train Loss: 0.0323, Valid F1: 0.2947\n",
      "Epoch 41/50, Train Loss: 0.0319, Valid F1: 0.2917\n",
      "Epoch 42/50, Train Loss: 0.0317, Valid F1: 0.2918\n",
      "Epoch 43/50, Train Loss: 0.0316, Valid F1: 0.2917\n",
      "Epoch 44/50, Train Loss: 0.0315, Valid F1: 0.2916\n",
      "Epoch 45/50, Train Loss: 0.0316, Valid F1: 0.2914\n",
      "Epoch 46/50, Train Loss: 0.0315, Valid F1: 0.2919\n",
      "Epoch 47/50, Train Loss: 0.0314, Valid F1: 0.2834\n",
      "Epoch 48/50, Train Loss: 0.0314, Valid F1: 0.2915\n",
      "Epoch 49/50, Train Loss: 0.0313, Valid F1: 0.2885\n",
      "Epoch 50/50, Train Loss: 0.0314, Valid F1: 0.2918\n"
     ]
    }
   ],
   "source": [
    "LR = 1e-4\n",
    "BATCH_SIZE = 128\n",
    "\n",
    "train_loader = torch.utils.data.DataLoader(torch.utils.data.TensorDataset(torch.Tensor(train_features_layer), torch.Tensor(train_labels_cc)), batch_size=BATCH_SIZE, shuffle=True)\n",
    "valid_loader = torch.utils.data.DataLoader(torch.utils.data.TensorDataset(torch.Tensor(test_features_layer), torch.Tensor(test_labels_cc)), batch_size=BATCH_SIZE, shuffle=False)\n",
    "test_loader = torch.utils.data.DataLoader(torch.utils.data.TensorDataset(torch.Tensor(test_features_layer), torch.Tensor(test_labels_cc)), batch_size=BATCH_SIZE, shuffle=False)\n",
    "\n",
    "out_features = len(test_labels_cc[0])\n",
    "model_cc = Baseline(len(train_features_layer[0]), out_features).cuda()\n",
    "optimizer = torch.optim.Adam(model_cc.parameters(), lr=LR)\n",
    "criterion = nn.BCEWithLogitsLoss()\n",
    "scheduler = torch.optim.lr_scheduler.ReduceLROnPlateau(optimizer, mode='max', factor=0.5, patience=3)\n",
    "\n",
    "losses = train(model_cc, train_loader, valid_loader, optimizer, criterion, epochs=50, length=len(test_labels_cc))\n",
    "\n",
    "f1_test = evaluate(model_cc, test_loader, criterion, cuda=True, length=len(test_labels_cc))"
   ]
  },
  {
   "cell_type": "code",
   "execution_count": 23,
   "metadata": {},
   "outputs": [
    {
     "name": "stdout",
     "output_type": "stream",
     "text": [
      "0.29175955057144165\n"
     ]
    },
    {
     "data": {
      "image/png": "[encoded data removed]",
      "text/plain": [
       "<Figure size 640x480 with 1 Axes>"
      ]
     },
     "metadata": {},
     "output_type": "display_data"
    }
   ],
   "source": [
    "print(f1_test)\n",
    "\n",
    "plt.plot(range(len(losses)), losses)\n",
    "plt.xlabel('Epoch')\n",
    "plt.ylabel('Loss')\n",
    "plt.title('Training Loss, CC')\n",
    "plt.show()"
   ]
  },
  {
   "cell_type": "code",
   "execution_count": 24,
   "metadata": {},
   "outputs": [
    {
     "data": {
      "application/vnd.jupyter.widget-view+json": {
       "model_id": "8c38f4e3c8d840fe8675af7381a65619",
       "version_major": 2,
       "version_minor": 0
      },
      "text/plain": [
       "  0%|          | 0/50 [00:00<?, ?it/s]"
      ]
     },
     "metadata": {},
     "output_type": "display_data"
    },
    {
     "name": "stdout",
     "output_type": "stream",
     "text": [
      "Epoch 1/50, Train Loss: 0.6943, Valid F1: 0.1078\n",
      "Epoch 2/50, Train Loss: 0.5714, Valid F1: 0.1697\n",
      "Epoch 3/50, Train Loss: 0.3169, Valid F1: 0.2153\n",
      "Epoch 4/50, Train Loss: 0.1504, Valid F1: 0.2283\n",
      "Epoch 5/50, Train Loss: 0.0857, Valid F1: 0.2318\n",
      "Epoch 6/50, Train Loss: 0.0599, Valid F1: 0.2347\n",
      "Epoch 7/50, Train Loss: 0.0482, Valid F1: 0.2331\n",
      "Epoch 8/50, Train Loss: 0.0419, Valid F1: 0.2333\n",
      "Epoch 9/50, Train Loss: 0.0387, Valid F1: 0.2340\n",
      "Epoch 10/50, Train Loss: 0.0368, Valid F1: 0.2338\n",
      "Epoch 11/50, Train Loss: 0.0353, Valid F1: 0.2339\n",
      "Epoch 12/50, Train Loss: 0.0347, Valid F1: 0.2368\n",
      "Epoch 13/50, Train Loss: 0.0340, Valid F1: 0.2341\n",
      "Epoch 14/50, Train Loss: 0.0335, Valid F1: 0.2364\n",
      "Epoch 15/50, Train Loss: 0.0332, Valid F1: 0.2385\n",
      "Epoch 16/50, Train Loss: 0.0330, Valid F1: 0.2363\n",
      "Epoch 17/50, Train Loss: 0.0330, Valid F1: 0.2390\n",
      "Epoch 18/50, Train Loss: 0.0327, Valid F1: 0.2347\n",
      "Epoch 19/50, Train Loss: 0.0327, Valid F1: 0.2382\n",
      "Epoch 20/50, Train Loss: 0.0326, Valid F1: 0.2389\n",
      "Epoch 21/50, Train Loss: 0.0326, Valid F1: 0.2351\n",
      "Epoch 22/50, Train Loss: 0.0324, Valid F1: 0.2398\n",
      "Epoch 23/50, Train Loss: 0.0324, Valid F1: 0.2391\n",
      "Epoch 24/50, Train Loss: 0.0324, Valid F1: 0.2383\n",
      "Epoch 25/50, Train Loss: 0.0324, Valid F1: 0.2375\n",
      "Epoch 26/50, Train Loss: 0.0324, Valid F1: 0.2386\n",
      "Epoch 27/50, Train Loss: 0.0323, Valid F1: 0.2402\n",
      "Epoch 28/50, Train Loss: 0.0323, Valid F1: 0.2320\n",
      "Epoch 29/50, Train Loss: 0.0322, Valid F1: 0.2337\n",
      "Epoch 30/50, Train Loss: 0.0322, Valid F1: 0.2395\n",
      "Epoch 31/50, Train Loss: 0.0322, Valid F1: 0.2345\n",
      "Epoch 32/50, Train Loss: 0.0322, Valid F1: 0.2380\n",
      "Epoch 33/50, Train Loss: 0.0322, Valid F1: 0.2335\n",
      "Epoch 34/50, Train Loss: 0.0322, Valid F1: 0.2350\n",
      "Epoch 35/50, Train Loss: 0.0323, Valid F1: 0.2373\n",
      "Epoch 36/50, Train Loss: 0.0324, Valid F1: 0.2332\n",
      "Epoch 37/50, Train Loss: 0.0323, Valid F1: 0.2374\n",
      "Epoch 38/50, Train Loss: 0.0322, Valid F1: 0.2321\n",
      "Epoch 39/50, Train Loss: 0.0321, Valid F1: 0.2399\n",
      "Epoch 40/50, Train Loss: 0.0319, Valid F1: 0.2406\n",
      "Epoch 41/50, Train Loss: 0.0319, Valid F1: 0.2154\n",
      "Epoch 42/50, Train Loss: 0.0319, Valid F1: 0.2379\n",
      "Epoch 43/50, Train Loss: 0.0320, Valid F1: 0.2420\n",
      "Epoch 44/50, Train Loss: 0.0319, Valid F1: 0.2402\n",
      "Epoch 45/50, Train Loss: 0.0322, Valid F1: 0.2372\n",
      "Epoch 46/50, Train Loss: 0.0322, Valid F1: 0.2383\n",
      "Epoch 47/50, Train Loss: 0.0322, Valid F1: 0.2368\n",
      "Epoch 48/50, Train Loss: 0.0321, Valid F1: 0.2380\n",
      "Epoch 49/50, Train Loss: 0.0321, Valid F1: 0.2382\n",
      "Epoch 50/50, Train Loss: 0.0321, Valid F1: 0.2366\n"
     ]
    }
   ],
   "source": [
    "LR = 1e-4\n",
    "BATCH_SIZE = 128\n",
    "\n",
    "train_loader = torch.utils.data.DataLoader(torch.utils.data.TensorDataset(torch.Tensor(train_features_layer), torch.Tensor(train_labels_bp)), batch_size=BATCH_SIZE, shuffle=True)\n",
    "valid_loader = torch.utils.data.DataLoader(torch.utils.data.TensorDataset(torch.Tensor(test_features_layer), torch.Tensor(test_labels_bp)), batch_size=BATCH_SIZE, shuffle=False)\n",
    "test_loader = torch.utils.data.DataLoader(torch.utils.data.TensorDataset(torch.Tensor(test_features_layer), torch.Tensor(test_labels_bp)), batch_size=BATCH_SIZE, shuffle=False)\n",
    "\n",
    "out_features = len(test_labels_bp[0])\n",
    "model_bp = Baseline(len(train_features_layer[0]), out_features).cuda()\n",
    "optimizer = torch.optim.Adam(model_bp.parameters(), lr=LR)\n",
    "criterion = nn.BCEWithLogitsLoss()\n",
    "scheduler = torch.optim.lr_scheduler.ReduceLROnPlateau(optimizer, mode='max', factor=0.5, patience=3)\n",
    "\n",
    "losses = train(model_bp, train_loader, valid_loader, optimizer, criterion, epochs=50, length=len(test_labels_bp))\n",
    "\n",
    "f1_test = evaluate(model_bp, test_loader, criterion, cuda=True, length=len(test_labels_bp))"
   ]
  },
  {
   "cell_type": "code",
   "execution_count": 25,
   "metadata": {},
   "outputs": [
    {
     "name": "stdout",
     "output_type": "stream",
     "text": [
      "0.23657110333442688\n"
     ]
    },
    {
     "data": {
      "image/png": "[encoded data removed]",
      "text/plain": [
       "<Figure size 640x480 with 1 Axes>"
      ]
     },
     "metadata": {},
     "output_type": "display_data"
    }
   ],
   "source": [
    "print(f1_test)\n",
    "\n",
    "plt.plot(range(len(losses)), losses)\n",
    "plt.xlabel('Epoch')\n",
    "plt.ylabel('Loss')\n",
    "plt.title('Training Loss, BP')\n",
    "plt.show()"
   ]
  },
  {
   "cell_type": "code",
   "execution_count": null,
   "metadata": {},
   "outputs": [],
   "source": []
  }
 ],
 "metadata": {
  "kernelspec": {
   "display_name": "venv",
   "language": "python",
   "name": "python3"
  },
  "language_info": {
   "codemirror_mode": {
    "name": "ipython",
    "version": 3
   },
   "file_extension": ".py",
   "mimetype": "text/x-python",
   "name": "python",
   "nbconvert_exporter": "python",
   "pygments_lexer": "ipython3",
   "version": "3.9.5"
  }
 },
 "nbformat": 4,
 "nbformat_minor": 2
}
