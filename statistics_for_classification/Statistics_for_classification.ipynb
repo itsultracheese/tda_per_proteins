{
  "nbformat": 4,
  "nbformat_minor": 0,
  "metadata": {
    "colab": {
      "provenance": []
    },
    "kernelspec": {
      "name": "python3",
      "display_name": "Python 3"
    },
    "language_info": {
      "name": "python"
    }
  },
  "cells": [
    {
      "cell_type": "code",
      "execution_count": null,
      "metadata": {
        "id": "-t2aOPPP4iYA"
      },
      "outputs": [],
      "source": [
        "import numpy as np\n",
        "import pandas as pd\n",
        "\n",
        "def read_pickle_file(file):\n",
        "    pickle_data = pd.read_pickle(file)\n",
        "    return pickle_data"
      ]
    },
    {
      "cell_type": "code",
      "source": [
        "def calculate_barcodes_stats(barcodes, dim=0):\n",
        "    features = []\n",
        "    for lh in barcodes:\n",
        "        lh_features = []\n",
        "        h0_lens = np.array([x[1] - x[0] for x in lh if x[2] == 0])\n",
        "        if len(h0_lens) == 0:\n",
        "            lh_features.extend([0, 0, 0, 0, 0, 0, 0])\n",
        "        else:\n",
        "            lh_features.append(np.sum(h0_lens))\n",
        "            lh_features.append(np.median(h0_lens))\n",
        "            lh_features.append(np.mean(h0_lens))\n",
        "            lh_features.append(np.std(h0_lens))\n",
        "            lh_features.append(np.max(h0_lens))\n",
        "            lh_features.append(len(h0_lens))\n",
        "            lens_normed = h0_lens / np.sum(h0_lens)\n",
        "            lh_features.append(-np.sum(lens_normed * np.log(lens_normed)))\n",
        "        if dim == 1:\n",
        "            h1_lens = np.array([x[1] - x[0] for x in lh if x[2] == 1])\n",
        "            if len(h1_lens) == 0:\n",
        "                lh_features.extend([0, 0, 0, 0, 0, 0, 0])\n",
        "            else:\n",
        "                lh_features.append(np.sum(h1_lens))\n",
        "                lh_features.append(np.median(h1_lens))\n",
        "                lh_features.append(np.mean(h1_lens))\n",
        "                lh_features.append(np.std(h1_lens))\n",
        "                lh_features.append(np.max(h1_lens))\n",
        "                lh_features.append(len(h1_lens))\n",
        "                lens_normed = h1_lens / np.sum(h1_lens)\n",
        "                lh_features.append(-np.sum(lens_normed * np.log(lens_normed)))\n",
        "        features.append(lh_features)\n",
        "    return np.array(features)"
      ],
      "metadata": {
        "id": "Ulac8EOa5tT2"
      },
      "execution_count": null,
      "outputs": []
    },
    {
      "cell_type": "code",
      "source": [
        "from google.colab import drive\n",
        "drive.mount('/content/gdrive')"
      ],
      "metadata": {
        "id": "hY6TXACa8-_3",
        "colab": {
          "base_uri": "https://localhost:8080/"
        },
        "outputId": "7d66494f-6470-459e-920e-cda82862e332"
      },
      "execution_count": null,
      "outputs": [
        {
          "output_type": "stream",
          "name": "stdout",
          "text": [
            "Mounted at /content/gdrive\n"
          ]
        }
      ]
    },
    {
      "cell_type": "code",
      "source": [
        "# import tarfile\n",
        "\n",
        "# file_path_test = \"/content/gdrive/MyDrive/colab/tda/barcodes_test_corrected.tar.gz\"\n",
        "# file_path_val = \"/content/gdrive/MyDrive/colab/tda/barcodes_valid_corrected.tar.gz\"\n",
        "\n",
        "# # Extract the tar.gz file\n",
        "# with tarfile.open(file_path_test, \"r:gz\") as tar:\n",
        "#     tar.extractall()"
      ],
      "metadata": {
        "id": "XjOaZd6AG3lC"
      },
      "execution_count": null,
      "outputs": []
    },
    {
      "cell_type": "code",
      "source": [
        "!rm -rf /content/processed_test"
      ],
      "metadata": {
        "id": "NT7QPzdole94"
      },
      "execution_count": null,
      "outputs": []
    },
    {
      "cell_type": "code",
      "source": [
        "from tqdm import tqdm\n",
        "import os"
      ],
      "metadata": {
        "id": "JtKY4glLWdvH"
      },
      "execution_count": null,
      "outputs": []
    },
    {
      "cell_type": "code",
      "source": [
        "# features_test = []\n",
        "# labels_mf_test = []\n",
        "# labels_cc_test = []\n",
        "# labels_bp_test = []\n",
        "# files_test = os.listdir('/content/processed_test/barcodes')\n",
        "\n",
        "# for file in tqdm(files_test):\n",
        "#     with open('/content/processed_test/barcodes/'+file, 'rb') as f:\n",
        "#         data = read_pickle_file(f)\n",
        "#         for key in data.keys():\n",
        "#             features_test.append(calculate_barcodes_stats(data[key]['barcodes']))\n",
        "#             labels_mf_test.append(data[key]['label_MF'])\n",
        "#             labels_cc_test.append(data[key]['label_CC'])\n",
        "#             labels_bp_test.append(data[key]['label_BP'])\n",
        "\n",
        "# y_test_mf = np.array(labels_mf_test)\n",
        "# y_test_cc = np.array(labels_cc_test)\n",
        "# y_test_bp = np.array(labels_bp_test)"
      ],
      "metadata": {
        "colab": {
          "base_uri": "https://localhost:8080/"
        },
        "id": "OlL5P1tYRYHv",
        "outputId": "a1b254b6-0529-4b7d-8117-fd138e60a89d"
      },
      "execution_count": null,
      "outputs": [
        {
          "output_type": "stream",
          "name": "stderr",
          "text": [
            "100%|██████████| 3350/3350 [56:51<00:00,  1.02s/it]\n"
          ]
        }
      ]
    },
    {
      "cell_type": "code",
      "source": [
        "# features_test = np.array(features_test)"
      ],
      "metadata": {
        "id": "bkHXPrSYXSfN"
      },
      "execution_count": null,
      "outputs": []
    },
    {
      "cell_type": "code",
      "source": [
        "binary_file_path_f = '/content/gdrive/MyDrive/colab/tda/data_f_val.npy'\n",
        "binary_file_path_mf = '/content/gdrive/MyDrive/colab/tda/data_mf_val.npy'\n",
        "binary_file_path_cc = '/content/gdrive/MyDrive/colab/tda/data_cc_val.npy'\n",
        "binary_file_path_bp = '/content/gdrive/MyDrive/colab/tda/data_bp_val.npy'\n",
        "\n",
        "features_val = np.load(binary_file_path_f)\n",
        "y_val_mf = np.load(binary_file_path_mf)\n",
        "y_val_cc = np.load(binary_file_path_cc)\n",
        "y_val_bp = np.load(binary_file_path_bp)"
      ],
      "metadata": {
        "id": "CbJ-NBGqj_DL"
      },
      "execution_count": null,
      "outputs": []
    },
    {
      "cell_type": "code",
      "source": [
        "binary_file_path_f = '/content/gdrive/MyDrive/colab/tda/data_f.npy'\n",
        "binary_file_path_mf = '/content/gdrive/MyDrive/colab/tda/data_mf.npy'\n",
        "binary_file_path_cc = '/content/gdrive/MyDrive/colab/tda/data_cc.npy'\n",
        "binary_file_path_bp = '/content/gdrive/MyDrive/colab/tda/data_bp.npy'\n",
        "\n",
        "features_test = np.load(binary_file_path_f)\n",
        "y_test_mf = np.load(binary_file_path_mf)\n",
        "y_test_cc = np.load(binary_file_path_cc)\n",
        "y_test_bp = np.load(binary_file_path_bp)"
      ],
      "metadata": {
        "id": "Riue5Mq3kApK"
      },
      "execution_count": null,
      "outputs": []
    },
    {
      "cell_type": "code",
      "source": [
        "features_temp = np.concatenate((features_test, features_val), axis=0)\n",
        "y_mf = np.concatenate((y_test_mf, y_val_mf), axis=0)\n",
        "y_cc = np.concatenate((y_test_cc, y_val_cc), axis=0)\n",
        "y_bp = np.concatenate((y_test_bp, y_val_bp), axis=0)"
      ],
      "metadata": {
        "id": "uU-8Ejw-s3Jy"
      },
      "execution_count": null,
      "outputs": []
    },
    {
      "cell_type": "code",
      "source": [
        "print(np.shape(features_temp))\n",
        "print(np.shape(y_mf))\n",
        "print(np.shape(y_cc))\n",
        "print(np.shape(y_bp))"
      ],
      "metadata": {
        "colab": {
          "base_uri": "https://localhost:8080/"
        },
        "id": "jtvcLIrfrS_o",
        "outputId": "62921132-dc1e-4aae-a10d-0a3a94ed7076"
      },
      "execution_count": null,
      "outputs": [
        {
          "output_type": "stream",
          "name": "stdout",
          "text": [
            "(6254, 660, 7)\n",
            "(6254, 489)\n",
            "(6254, 320)\n",
            "(6254, 1943)\n"
          ]
        }
      ]
    },
    {
      "cell_type": "code",
      "source": [
        "!pip install torchmetrics"
      ],
      "metadata": {
        "colab": {
          "base_uri": "https://localhost:8080/"
        },
        "collapsed": true,
        "id": "gdyGAo03vnI-",
        "outputId": "a7250324-e5e8-4b6a-dbca-7c6cc065770f"
      },
      "execution_count": null,
      "outputs": [
        {
          "output_type": "stream",
          "name": "stdout",
          "text": [
            "Collecting torchmetrics\n",
            "  Downloading torchmetrics-1.7.0-py3-none-any.whl.metadata (21 kB)\n",
            "Requirement already satisfied: numpy>1.20.0 in /usr/local/lib/python3.11/dist-packages (from torchmetrics) (2.0.2)\n",
            "Requirement already satisfied: packaging>17.1 in /usr/local/lib/python3.11/dist-packages (from torchmetrics) (24.2)\n",
            "Requirement already satisfied: torch>=2.0.0 in /usr/local/lib/python3.11/dist-packages (from torchmetrics) (2.6.0+cu124)\n",
            "Collecting lightning-utilities>=0.8.0 (from torchmetrics)\n",
            "  Downloading lightning_utilities-0.14.2-py3-none-any.whl.metadata (5.6 kB)\n",
            "Requirement already satisfied: setuptools in /usr/local/lib/python3.11/dist-packages (from lightning-utilities>=0.8.0->torchmetrics) (75.1.0)\n",
            "Requirement already satisfied: typing_extensions in /usr/local/lib/python3.11/dist-packages (from lightning-utilities>=0.8.0->torchmetrics) (4.12.2)\n",
            "Requirement already satisfied: filelock in /usr/local/lib/python3.11/dist-packages (from torch>=2.0.0->torchmetrics) (3.18.0)\n",
            "Requirement already satisfied: networkx in /usr/local/lib/python3.11/dist-packages (from torch>=2.0.0->torchmetrics) (3.4.2)\n",
            "Requirement already satisfied: jinja2 in /usr/local/lib/python3.11/dist-packages (from torch>=2.0.0->torchmetrics) (3.1.6)\n",
            "Requirement already satisfied: fsspec in /usr/local/lib/python3.11/dist-packages (from torch>=2.0.0->torchmetrics) (2025.3.0)\n",
            "Collecting nvidia-cuda-nvrtc-cu12==12.4.127 (from torch>=2.0.0->torchmetrics)\n",
            "  Downloading nvidia_cuda_nvrtc_cu12-12.4.127-py3-none-manylinux2014_x86_64.whl.metadata (1.5 kB)\n",
            "Collecting nvidia-cuda-runtime-cu12==12.4.127 (from torch>=2.0.0->torchmetrics)\n",
            "  Downloading nvidia_cuda_runtime_cu12-12.4.127-py3-none-manylinux2014_x86_64.whl.metadata (1.5 kB)\n",
            "Collecting nvidia-cuda-cupti-cu12==12.4.127 (from torch>=2.0.0->torchmetrics)\n",
            "  Downloading nvidia_cuda_cupti_cu12-12.4.127-py3-none-manylinux2014_x86_64.whl.metadata (1.6 kB)\n",
            "Collecting nvidia-cudnn-cu12==9.1.0.70 (from torch>=2.0.0->torchmetrics)\n",
            "  Downloading nvidia_cudnn_cu12-9.1.0.70-py3-none-manylinux2014_x86_64.whl.metadata (1.6 kB)\n",
            "Collecting nvidia-cublas-cu12==12.4.5.8 (from torch>=2.0.0->torchmetrics)\n",
            "  Downloading nvidia_cublas_cu12-12.4.5.8-py3-none-manylinux2014_x86_64.whl.metadata (1.5 kB)\n",
            "Collecting nvidia-cufft-cu12==11.2.1.3 (from torch>=2.0.0->torchmetrics)\n",
            "  Downloading nvidia_cufft_cu12-11.2.1.3-py3-none-manylinux2014_x86_64.whl.metadata (1.5 kB)\n",
            "Collecting nvidia-curand-cu12==10.3.5.147 (from torch>=2.0.0->torchmetrics)\n",
            "  Downloading nvidia_curand_cu12-10.3.5.147-py3-none-manylinux2014_x86_64.whl.metadata (1.5 kB)\n",
            "Collecting nvidia-cusolver-cu12==11.6.1.9 (from torch>=2.0.0->torchmetrics)\n",
            "  Downloading nvidia_cusolver_cu12-11.6.1.9-py3-none-manylinux2014_x86_64.whl.metadata (1.6 kB)\n",
            "Collecting nvidia-cusparse-cu12==12.3.1.170 (from torch>=2.0.0->torchmetrics)\n",
            "  Downloading nvidia_cusparse_cu12-12.3.1.170-py3-none-manylinux2014_x86_64.whl.metadata (1.6 kB)\n",
            "Requirement already satisfied: nvidia-cusparselt-cu12==0.6.2 in /usr/local/lib/python3.11/dist-packages (from torch>=2.0.0->torchmetrics) (0.6.2)\n",
            "Requirement already satisfied: nvidia-nccl-cu12==2.21.5 in /usr/local/lib/python3.11/dist-packages (from torch>=2.0.0->torchmetrics) (2.21.5)\n",
            "Requirement already satisfied: nvidia-nvtx-cu12==12.4.127 in /usr/local/lib/python3.11/dist-packages (from torch>=2.0.0->torchmetrics) (12.4.127)\n",
            "Collecting nvidia-nvjitlink-cu12==12.4.127 (from torch>=2.0.0->torchmetrics)\n",
            "  Downloading nvidia_nvjitlink_cu12-12.4.127-py3-none-manylinux2014_x86_64.whl.metadata (1.5 kB)\n",
            "Requirement already satisfied: triton==3.2.0 in /usr/local/lib/python3.11/dist-packages (from torch>=2.0.0->torchmetrics) (3.2.0)\n",
            "Requirement already satisfied: sympy==1.13.1 in /usr/local/lib/python3.11/dist-packages (from torch>=2.0.0->torchmetrics) (1.13.1)\n",
            "Requirement already satisfied: mpmath<1.4,>=1.1.0 in /usr/local/lib/python3.11/dist-packages (from sympy==1.13.1->torch>=2.0.0->torchmetrics) (1.3.0)\n",
            "Requirement already satisfied: MarkupSafe>=2.0 in /usr/local/lib/python3.11/dist-packages (from jinja2->torch>=2.0.0->torchmetrics) (3.0.2)\n",
            "Downloading torchmetrics-1.7.0-py3-none-any.whl (960 kB)\n",
            "\u001b[2K   \u001b[90m━━━━━━━━━━━━━━━━━━━━━━━━━━━━━━━━━━━━━━━━\u001b[0m \u001b[32m960.9/960.9 kB\u001b[0m \u001b[31m14.7 MB/s\u001b[0m eta \u001b[36m0:00:00\u001b[0m\n",
            "\u001b[?25hDownloading lightning_utilities-0.14.2-py3-none-any.whl (28 kB)\n",
            "Downloading nvidia_cublas_cu12-12.4.5.8-py3-none-manylinux2014_x86_64.whl (363.4 MB)\n",
            "\u001b[2K   \u001b[90m━━━━━━━━━━━━━━━━━━━━━━━━━━━━━━━━━━━━━━━━\u001b[0m \u001b[32m363.4/363.4 MB\u001b[0m \u001b[31m1.7 MB/s\u001b[0m eta \u001b[36m0:00:00\u001b[0m\n",
            "\u001b[?25hDownloading nvidia_cuda_cupti_cu12-12.4.127-py3-none-manylinux2014_x86_64.whl (13.8 MB)\n",
            "\u001b[2K   \u001b[90m━━━━━━━━━━━━━━━━━━━━━━━━━━━━━━━━━━━━━━━━\u001b[0m \u001b[32m13.8/13.8 MB\u001b[0m \u001b[31m64.4 MB/s\u001b[0m eta \u001b[36m0:00:00\u001b[0m\n",
            "\u001b[?25hDownloading nvidia_cuda_nvrtc_cu12-12.4.127-py3-none-manylinux2014_x86_64.whl (24.6 MB)\n",
            "\u001b[2K   \u001b[90m━━━━━━━━━━━━━━━━━━━━━━━━━━━━━━━━━━━━━━━━\u001b[0m \u001b[32m24.6/24.6 MB\u001b[0m \u001b[31m33.6 MB/s\u001b[0m eta \u001b[36m0:00:00\u001b[0m\n",
            "\u001b[?25hDownloading nvidia_cuda_runtime_cu12-12.4.127-py3-none-manylinux2014_x86_64.whl (883 kB)\n",
            "\u001b[2K   \u001b[90m━━━━━━━━━━━━━━━━━━━━━━━━━━━━━━━━━━━━━━━━\u001b[0m \u001b[32m883.7/883.7 kB\u001b[0m \u001b[31m31.0 MB/s\u001b[0m eta \u001b[36m0:00:00\u001b[0m\n",
            "\u001b[?25hDownloading nvidia_cudnn_cu12-9.1.0.70-py3-none-manylinux2014_x86_64.whl (664.8 MB)\n",
            "\u001b[2K   \u001b[90m━━━━━━━━━━━━━━━━━━━━━━━━━━━━━━━━━━━━━━━━\u001b[0m \u001b[32m664.8/664.8 MB\u001b[0m \u001b[31m1.2 MB/s\u001b[0m eta \u001b[36m0:00:00\u001b[0m\n",
            "\u001b[?25hDownloading nvidia_cufft_cu12-11.2.1.3-py3-none-manylinux2014_x86_64.whl (211.5 MB)\n",
            "\u001b[2K   \u001b[90m━━━━━━━━━━━━━━━━━━━━━━━━━━━━━━━━━━━━━━━━\u001b[0m \u001b[32m211.5/211.5 MB\u001b[0m \u001b[31m6.2 MB/s\u001b[0m eta \u001b[36m0:00:00\u001b[0m\n",
            "\u001b[?25hDownloading nvidia_curand_cu12-10.3.5.147-py3-none-manylinux2014_x86_64.whl (56.3 MB)\n",
            "\u001b[2K   \u001b[90m━━━━━━━━━━━━━━━━━━━━━━━━━━━━━━━━━━━━━━━━\u001b[0m \u001b[32m56.3/56.3 MB\u001b[0m \u001b[31m14.5 MB/s\u001b[0m eta \u001b[36m0:00:00\u001b[0m\n",
            "\u001b[?25hDownloading nvidia_cusolver_cu12-11.6.1.9-py3-none-manylinux2014_x86_64.whl (127.9 MB)\n",
            "\u001b[2K   \u001b[90m━━━━━━━━━━━━━━━━━━━━━━━━━━━━━━━━━━━━━━━━\u001b[0m \u001b[32m127.9/127.9 MB\u001b[0m \u001b[31m7.0 MB/s\u001b[0m eta \u001b[36m0:00:00\u001b[0m\n",
            "\u001b[?25hDownloading nvidia_cusparse_cu12-12.3.1.170-py3-none-manylinux2014_x86_64.whl (207.5 MB)\n",
            "\u001b[2K   \u001b[90m━━━━━━━━━━━━━━━━━━━━━━━━━━━━━━━━━━━━━━━━\u001b[0m \u001b[32m207.5/207.5 MB\u001b[0m \u001b[31m5.5 MB/s\u001b[0m eta \u001b[36m0:00:00\u001b[0m\n",
            "\u001b[?25hDownloading nvidia_nvjitlink_cu12-12.4.127-py3-none-manylinux2014_x86_64.whl (21.1 MB)\n",
            "\u001b[2K   \u001b[90m━━━━━━━━━━━━━━━━━━━━━━━━━━━━━━━━━━━━━━━━\u001b[0m \u001b[32m21.1/21.1 MB\u001b[0m \u001b[31m84.2 MB/s\u001b[0m eta \u001b[36m0:00:00\u001b[0m\n",
            "\u001b[?25hInstalling collected packages: nvidia-nvjitlink-cu12, nvidia-curand-cu12, nvidia-cufft-cu12, nvidia-cuda-runtime-cu12, nvidia-cuda-nvrtc-cu12, nvidia-cuda-cupti-cu12, nvidia-cublas-cu12, lightning-utilities, nvidia-cusparse-cu12, nvidia-cudnn-cu12, nvidia-cusolver-cu12, torchmetrics\n",
            "  Attempting uninstall: nvidia-nvjitlink-cu12\n",
            "    Found existing installation: nvidia-nvjitlink-cu12 12.5.82\n",
            "    Uninstalling nvidia-nvjitlink-cu12-12.5.82:\n",
            "      Successfully uninstalled nvidia-nvjitlink-cu12-12.5.82\n",
            "  Attempting uninstall: nvidia-curand-cu12\n",
            "    Found existing installation: nvidia-curand-cu12 10.3.6.82\n",
            "    Uninstalling nvidia-curand-cu12-10.3.6.82:\n",
            "      Successfully uninstalled nvidia-curand-cu12-10.3.6.82\n",
            "  Attempting uninstall: nvidia-cufft-cu12\n",
            "    Found existing installation: nvidia-cufft-cu12 11.2.3.61\n",
            "    Uninstalling nvidia-cufft-cu12-11.2.3.61:\n",
            "      Successfully uninstalled nvidia-cufft-cu12-11.2.3.61\n",
            "  Attempting uninstall: nvidia-cuda-runtime-cu12\n",
            "    Found existing installation: nvidia-cuda-runtime-cu12 12.5.82\n",
            "    Uninstalling nvidia-cuda-runtime-cu12-12.5.82:\n",
            "      Successfully uninstalled nvidia-cuda-runtime-cu12-12.5.82\n",
            "  Attempting uninstall: nvidia-cuda-nvrtc-cu12\n",
            "    Found existing installation: nvidia-cuda-nvrtc-cu12 12.5.82\n",
            "    Uninstalling nvidia-cuda-nvrtc-cu12-12.5.82:\n",
            "      Successfully uninstalled nvidia-cuda-nvrtc-cu12-12.5.82\n",
            "  Attempting uninstall: nvidia-cuda-cupti-cu12\n",
            "    Found existing installation: nvidia-cuda-cupti-cu12 12.5.82\n",
            "    Uninstalling nvidia-cuda-cupti-cu12-12.5.82:\n",
            "      Successfully uninstalled nvidia-cuda-cupti-cu12-12.5.82\n",
            "  Attempting uninstall: nvidia-cublas-cu12\n",
            "    Found existing installation: nvidia-cublas-cu12 12.5.3.2\n",
            "    Uninstalling nvidia-cublas-cu12-12.5.3.2:\n",
            "      Successfully uninstalled nvidia-cublas-cu12-12.5.3.2\n",
            "  Attempting uninstall: nvidia-cusparse-cu12\n",
            "    Found existing installation: nvidia-cusparse-cu12 12.5.1.3\n",
            "    Uninstalling nvidia-cusparse-cu12-12.5.1.3:\n",
            "      Successfully uninstalled nvidia-cusparse-cu12-12.5.1.3\n",
            "  Attempting uninstall: nvidia-cudnn-cu12\n",
            "    Found existing installation: nvidia-cudnn-cu12 9.3.0.75\n",
            "    Uninstalling nvidia-cudnn-cu12-9.3.0.75:\n",
            "      Successfully uninstalled nvidia-cudnn-cu12-9.3.0.75\n",
            "  Attempting uninstall: nvidia-cusolver-cu12\n",
            "    Found existing installation: nvidia-cusolver-cu12 11.6.3.83\n",
            "    Uninstalling nvidia-cusolver-cu12-11.6.3.83:\n",
            "      Successfully uninstalled nvidia-cusolver-cu12-11.6.3.83\n",
            "Successfully installed lightning-utilities-0.14.2 nvidia-cublas-cu12-12.4.5.8 nvidia-cuda-cupti-cu12-12.4.127 nvidia-cuda-nvrtc-cu12-12.4.127 nvidia-cuda-runtime-cu12-12.4.127 nvidia-cudnn-cu12-9.1.0.70 nvidia-cufft-cu12-11.2.1.3 nvidia-curand-cu12-10.3.5.147 nvidia-cusolver-cu12-11.6.1.9 nvidia-cusparse-cu12-12.3.1.170 nvidia-nvjitlink-cu12-12.4.127 torchmetrics-1.7.0\n"
          ]
        }
      ]
    },
    {
      "cell_type": "code",
      "source": [
        "import torch\n",
        "import torch.nn as nn\n",
        "from torchmetrics import F1Score"
      ],
      "metadata": {
        "id": "Cx8SWHhWrl2i"
      },
      "execution_count": null,
      "outputs": []
    },
    {
      "cell_type": "code",
      "source": [
        "class MLP(nn.Module):\n",
        "    def __init__(self, input_dim, hidden_dim, output_dim):\n",
        "        super(MLP, self).__init__()\n",
        "        self.fc1 = nn.Linear(input_dim, hidden_dim)\n",
        "        self.relu = nn.ReLU()\n",
        "        self.fc2 = nn.Linear(hidden_dim, hidden_dim)\n",
        "        self.fc3 = nn.Linear(hidden_dim, output_dim)\n",
        "\n",
        "    def forward(self, x):\n",
        "        x = self.relu(self.fc1(x))\n",
        "        x = self.relu(self.fc2(x))\n",
        "        return self.fc3(x)"
      ],
      "metadata": {
        "id": "frHI3kvCr_BI"
      },
      "execution_count": null,
      "outputs": []
    },
    {
      "cell_type": "code",
      "source": [
        "from sklearn.model_selection import train_test_split"
      ],
      "metadata": {
        "id": "_h3cyT3xu5uv"
      },
      "execution_count": null,
      "outputs": []
    },
    {
      "cell_type": "code",
      "source": [
        "def train_mlp(data, target, name_to_save):\n",
        "  n, b, c = np.shape(data)\n",
        "  INPUT_DIM = c * b\n",
        "  HIDDEN_DIM = 1024\n",
        "  OUTPUT_DIM = np.shape(target)[1]\n",
        "  LEARNING_RATE = 0.001\n",
        "  NUM_EPOCHS = 20\n",
        "  BATCH_SIZE = 32\n",
        "\n",
        "  X = torch.from_numpy(data.reshape(n, -1)).float()\n",
        "  y = torch.from_numpy(target.argmax(axis=1)).long()\n",
        "\n",
        "  X_train, X_val, y_train, y_val = train_test_split(\n",
        "      X, y,\n",
        "      test_size=0.2,\n",
        "      random_state=42\n",
        "  )\n",
        "\n",
        "  train_dataset = torch.utils.data.TensorDataset(X_train, y_train)\n",
        "  train_loader = torch.utils.data.DataLoader(\n",
        "      train_dataset,\n",
        "      batch_size=BATCH_SIZE,\n",
        "      shuffle=True\n",
        "  )\n",
        "\n",
        "  val_dataset = torch.utils.data.TensorDataset(X_val, y_val)\n",
        "  val_loader = torch.utils.data.DataLoader(\n",
        "      val_dataset,\n",
        "      batch_size=BATCH_SIZE\n",
        "  )\n",
        "\n",
        "  device = torch.device('cuda' if torch.cuda.is_available() else 'cpu')\n",
        "  model = MLP(INPUT_DIM, HIDDEN_DIM, OUTPUT_DIM).to(device)\n",
        "  criterion = nn.CrossEntropyLoss()\n",
        "  optimizer = torch.optim.Adam(model.parameters(), lr=LEARNING_RATE)\n",
        "\n",
        "  f1_metric = F1Score(task=\"multiclass\", num_classes=OUTPUT_DIM).to(device)\n",
        "\n",
        "  for epoch in range(NUM_EPOCHS):\n",
        "    # Training phase\n",
        "    model.train()\n",
        "    train_loss = 0.0\n",
        "\n",
        "    for batch_x, batch_y in train_loader:\n",
        "        batch_x, batch_y = batch_x.to(device), batch_y.to(device)\n",
        "\n",
        "        # Forward pass\n",
        "        outputs = model(batch_x)\n",
        "        loss = criterion(outputs, batch_y)\n",
        "\n",
        "        # Backward pass\n",
        "        optimizer.zero_grad()\n",
        "        loss.backward()\n",
        "        optimizer.step()\n",
        "\n",
        "        train_loss += loss.item() * batch_x.size(0)\n",
        "\n",
        "    # Validation phase\n",
        "    model.eval()\n",
        "    val_loss = 0.0\n",
        "    val_f1 = 0.0\n",
        "\n",
        "    with torch.no_grad():\n",
        "        for batch_x, batch_y in val_loader:\n",
        "            batch_x, batch_y = batch_x.to(device), batch_y.to(device)\n",
        "\n",
        "            outputs = model(batch_x)\n",
        "            loss = criterion(outputs, batch_y)\n",
        "            val_loss += loss.item() * batch_x.size(0)\n",
        "\n",
        "            _, preds = torch.max(outputs, 1)\n",
        "            val_f1 += f1_metric(preds, batch_y).item()\n",
        "\n",
        "    # Calculate epoch statistics\n",
        "    train_loss = train_loss / len(train_loader.dataset)\n",
        "    val_loss = val_loss / len(val_loader.dataset)\n",
        "    val_f1 = val_f1 / len(val_loader)\n",
        "\n",
        "    print(f\"Epoch {epoch+1}/{NUM_EPOCHS}\")\n",
        "    print(f\"Train Loss: {train_loss:.4f} | Val Loss: {val_loss:.4f} | Val F1: {val_f1:.4f}\")\n",
        "    print(\"-\" * 50)\n",
        "\n",
        "  # Save the trained model\n",
        "  torch.save(model.state_dict(), name_to_save)"
      ],
      "metadata": {
        "id": "dUxPU1TdpIxN"
      },
      "execution_count": null,
      "outputs": []
    },
    {
      "cell_type": "code",
      "source": [
        "train_mlp(features_temp, y_mf, 'mlp_mf.pth')"
      ],
      "metadata": {
        "id": "sILYBQNNzmQE",
        "colab": {
          "base_uri": "https://localhost:8080/"
        },
        "collapsed": true,
        "outputId": "76efcc1e-1f56-40bb-f00e-301e347724f5"
      },
      "execution_count": null,
      "outputs": [
        {
          "output_type": "stream",
          "name": "stdout",
          "text": [
            "Epoch 1/20\n",
            "Train Loss: 35.0117 | Val Loss: 4.5157 | Val F1: 0.0352\n",
            "--------------------------------------------------\n",
            "Epoch 2/20\n",
            "Train Loss: 4.3895 | Val Loss: 4.2638 | Val F1: 0.1060\n",
            "--------------------------------------------------\n",
            "Epoch 3/20\n",
            "Train Loss: 4.2888 | Val Loss: 4.2385 | Val F1: 0.1060\n",
            "--------------------------------------------------\n",
            "Epoch 4/20\n",
            "Train Loss: 4.2795 | Val Loss: 4.2397 | Val F1: 0.1060\n",
            "--------------------------------------------------\n",
            "Epoch 5/20\n",
            "Train Loss: 4.2782 | Val Loss: 4.2395 | Val F1: 0.1060\n",
            "--------------------------------------------------\n",
            "Epoch 6/20\n",
            "Train Loss: 4.2777 | Val Loss: 4.2446 | Val F1: 0.1060\n",
            "--------------------------------------------------\n",
            "Epoch 7/20\n",
            "Train Loss: 4.2772 | Val Loss: 4.2409 | Val F1: 0.1060\n",
            "--------------------------------------------------\n",
            "Epoch 8/20\n",
            "Train Loss: 4.2781 | Val Loss: 4.2428 | Val F1: 0.1060\n",
            "--------------------------------------------------\n",
            "Epoch 9/20\n",
            "Train Loss: 4.2764 | Val Loss: 4.2447 | Val F1: 0.1060\n",
            "--------------------------------------------------\n",
            "Epoch 10/20\n",
            "Train Loss: 4.2767 | Val Loss: 4.2370 | Val F1: 0.1060\n",
            "--------------------------------------------------\n",
            "Epoch 11/20\n",
            "Train Loss: 4.2755 | Val Loss: 4.2406 | Val F1: 0.1060\n",
            "--------------------------------------------------\n",
            "Epoch 12/20\n",
            "Train Loss: 4.2742 | Val Loss: 4.2473 | Val F1: 0.1060\n",
            "--------------------------------------------------\n",
            "Epoch 13/20\n",
            "Train Loss: 4.2737 | Val Loss: 4.2401 | Val F1: 0.1060\n",
            "--------------------------------------------------\n",
            "Epoch 14/20\n",
            "Train Loss: 4.2726 | Val Loss: 4.2418 | Val F1: 0.1060\n",
            "--------------------------------------------------\n",
            "Epoch 15/20\n",
            "Train Loss: 4.2718 | Val Loss: 4.2400 | Val F1: 0.1060\n",
            "--------------------------------------------------\n",
            "Epoch 16/20\n",
            "Train Loss: 4.2708 | Val Loss: 4.2447 | Val F1: 0.1060\n",
            "--------------------------------------------------\n",
            "Epoch 17/20\n",
            "Train Loss: 4.2722 | Val Loss: 4.2459 | Val F1: 0.1060\n",
            "--------------------------------------------------\n",
            "Epoch 18/20\n",
            "Train Loss: 4.2712 | Val Loss: 4.2456 | Val F1: 0.1060\n",
            "--------------------------------------------------\n",
            "Epoch 19/20\n",
            "Train Loss: 4.2711 | Val Loss: 4.2437 | Val F1: 0.1060\n",
            "--------------------------------------------------\n",
            "Epoch 20/20\n",
            "Train Loss: 4.2701 | Val Loss: 4.2451 | Val F1: 0.1060\n",
            "--------------------------------------------------\n"
          ]
        }
      ]
    },
    {
      "cell_type": "code",
      "source": [
        "train_mlp(features_temp, y_cc, 'mlp_cc.pth')"
      ],
      "metadata": {
        "colab": {
          "base_uri": "https://localhost:8080/"
        },
        "collapsed": true,
        "id": "8EILHIWH2Yle",
        "outputId": "e545fc74-f3c4-4572-96b8-ff65e0aa4825"
      },
      "execution_count": null,
      "outputs": [
        {
          "output_type": "stream",
          "name": "stdout",
          "text": [
            "Epoch 1/20\n",
            "Train Loss: 24.4019 | Val Loss: 2.7585 | Val F1: 0.4888\n",
            "--------------------------------------------------\n",
            "Epoch 2/20\n",
            "Train Loss: 2.6044 | Val Loss: 2.6046 | Val F1: 0.4888\n",
            "--------------------------------------------------\n",
            "Epoch 3/20\n",
            "Train Loss: 2.6009 | Val Loss: 2.6385 | Val F1: 0.4888\n",
            "--------------------------------------------------\n",
            "Epoch 4/20\n",
            "Train Loss: 2.5538 | Val Loss: 2.6735 | Val F1: 0.4888\n",
            "--------------------------------------------------\n",
            "Epoch 5/20\n",
            "Train Loss: 2.5087 | Val Loss: 2.5446 | Val F1: 0.4888\n",
            "--------------------------------------------------\n",
            "Epoch 6/20\n",
            "Train Loss: 2.4906 | Val Loss: 2.5808 | Val F1: 0.4888\n",
            "--------------------------------------------------\n",
            "Epoch 7/20\n",
            "Train Loss: 2.5110 | Val Loss: 2.5942 | Val F1: 0.4888\n",
            "--------------------------------------------------\n",
            "Epoch 8/20\n",
            "Train Loss: 2.6252 | Val Loss: 2.5041 | Val F1: 0.4888\n",
            "--------------------------------------------------\n",
            "Epoch 9/20\n",
            "Train Loss: 2.4383 | Val Loss: 2.5069 | Val F1: 0.4888\n",
            "--------------------------------------------------\n",
            "Epoch 10/20\n",
            "Train Loss: 2.4343 | Val Loss: 2.5056 | Val F1: 0.4888\n",
            "--------------------------------------------------\n",
            "Epoch 11/20\n",
            "Train Loss: 2.4335 | Val Loss: 2.5052 | Val F1: 0.4888\n",
            "--------------------------------------------------\n",
            "Epoch 12/20\n",
            "Train Loss: 2.4325 | Val Loss: 2.5088 | Val F1: 0.4888\n",
            "--------------------------------------------------\n",
            "Epoch 13/20\n",
            "Train Loss: 2.4327 | Val Loss: 2.5064 | Val F1: 0.4888\n",
            "--------------------------------------------------\n",
            "Epoch 14/20\n",
            "Train Loss: 2.4309 | Val Loss: 2.5077 | Val F1: 0.4888\n",
            "--------------------------------------------------\n",
            "Epoch 15/20\n",
            "Train Loss: 2.4310 | Val Loss: 2.5053 | Val F1: 0.4888\n",
            "--------------------------------------------------\n",
            "Epoch 16/20\n",
            "Train Loss: 2.4313 | Val Loss: 2.5094 | Val F1: 0.4888\n",
            "--------------------------------------------------\n",
            "Epoch 17/20\n",
            "Train Loss: 2.4313 | Val Loss: 2.5138 | Val F1: 0.4888\n",
            "--------------------------------------------------\n",
            "Epoch 18/20\n",
            "Train Loss: 2.4310 | Val Loss: 2.5106 | Val F1: 0.4888\n",
            "--------------------------------------------------\n",
            "Epoch 19/20\n",
            "Train Loss: 2.4310 | Val Loss: 2.5118 | Val F1: 0.4888\n",
            "--------------------------------------------------\n",
            "Epoch 20/20\n",
            "Train Loss: 2.4303 | Val Loss: 2.5093 | Val F1: 0.4888\n",
            "--------------------------------------------------\n"
          ]
        }
      ]
    },
    {
      "cell_type": "code",
      "source": [
        "train_mlp(features_temp, y_bp, 'mlp_bp.pth')"
      ],
      "metadata": {
        "colab": {
          "base_uri": "https://localhost:8080/"
        },
        "collapsed": true,
        "id": "l43bXuIz4mRX",
        "outputId": "93a3ec28-a52f-438b-c697-d08f7fbed4a9"
      },
      "execution_count": null,
      "outputs": [
        {
          "output_type": "stream",
          "name": "stdout",
          "text": [
            "Epoch 1/20\n",
            "Train Loss: 36.6961 | Val Loss: 4.5800 | Val F1: 0.0516\n",
            "--------------------------------------------------\n",
            "Epoch 2/20\n",
            "Train Loss: 4.3597 | Val Loss: 4.4180 | Val F1: 0.0836\n",
            "--------------------------------------------------\n",
            "Epoch 3/20\n",
            "Train Loss: 4.2963 | Val Loss: 4.4065 | Val F1: 0.0836\n",
            "--------------------------------------------------\n",
            "Epoch 4/20\n",
            "Train Loss: 4.2890 | Val Loss: 4.4021 | Val F1: 0.0836\n",
            "--------------------------------------------------\n",
            "Epoch 5/20\n",
            "Train Loss: 4.2850 | Val Loss: 4.4072 | Val F1: 0.0836\n",
            "--------------------------------------------------\n",
            "Epoch 6/20\n",
            "Train Loss: 4.2849 | Val Loss: 4.4109 | Val F1: 0.0836\n",
            "--------------------------------------------------\n",
            "Epoch 7/20\n",
            "Train Loss: 4.2833 | Val Loss: 4.4118 | Val F1: 0.0836\n",
            "--------------------------------------------------\n",
            "Epoch 8/20\n",
            "Train Loss: 4.2829 | Val Loss: 4.4051 | Val F1: 0.0836\n",
            "--------------------------------------------------\n",
            "Epoch 9/20\n",
            "Train Loss: 4.2825 | Val Loss: 4.4117 | Val F1: 0.0836\n",
            "--------------------------------------------------\n",
            "Epoch 10/20\n",
            "Train Loss: 4.2819 | Val Loss: 4.4103 | Val F1: 0.0836\n",
            "--------------------------------------------------\n",
            "Epoch 11/20\n",
            "Train Loss: 4.2817 | Val Loss: 4.4092 | Val F1: 0.0836\n",
            "--------------------------------------------------\n",
            "Epoch 12/20\n",
            "Train Loss: 4.2811 | Val Loss: 4.4158 | Val F1: 0.0836\n",
            "--------------------------------------------------\n",
            "Epoch 13/20\n",
            "Train Loss: 4.2805 | Val Loss: 4.4111 | Val F1: 0.0836\n",
            "--------------------------------------------------\n",
            "Epoch 14/20\n",
            "Train Loss: 4.2795 | Val Loss: 4.4125 | Val F1: 0.0836\n",
            "--------------------------------------------------\n",
            "Epoch 15/20\n",
            "Train Loss: 4.2808 | Val Loss: 4.4123 | Val F1: 0.0836\n",
            "--------------------------------------------------\n",
            "Epoch 16/20\n",
            "Train Loss: 4.2805 | Val Loss: 4.4173 | Val F1: 0.0836\n",
            "--------------------------------------------------\n",
            "Epoch 17/20\n",
            "Train Loss: 4.2799 | Val Loss: 4.4148 | Val F1: 0.0836\n",
            "--------------------------------------------------\n",
            "Epoch 18/20\n",
            "Train Loss: 4.2789 | Val Loss: 4.4170 | Val F1: 0.0836\n",
            "--------------------------------------------------\n",
            "Epoch 19/20\n",
            "Train Loss: 4.2789 | Val Loss: 4.4157 | Val F1: 0.0836\n",
            "--------------------------------------------------\n",
            "Epoch 20/20\n",
            "Train Loss: 4.2784 | Val Loss: 4.4237 | Val F1: 0.0836\n",
            "--------------------------------------------------\n"
          ]
        }
      ]
    },
    {
      "cell_type": "code",
      "source": [
        "!nvcc --version"
      ],
      "metadata": {
        "colab": {
          "base_uri": "https://localhost:8080/"
        },
        "id": "zeWTk7uY1tXD",
        "outputId": "4b726620-379f-4dd6-cf9c-d3e2d12eae14"
      },
      "execution_count": null,
      "outputs": [
        {
          "output_type": "stream",
          "name": "stdout",
          "text": [
            "nvcc: NVIDIA (R) Cuda compiler driver\n",
            "Copyright (c) 2005-2024 NVIDIA Corporation\n",
            "Built on Thu_Jun__6_02:18:23_PDT_2024\n",
            "Cuda compilation tools, release 12.5, V12.5.82\n",
            "Build cuda_12.5.r12.5/compiler.34385749_0\n"
          ]
        }
      ]
    },
    {
      "cell_type": "code",
      "source": [
        "!pip install cupy-cuda12x py-boost"
      ],
      "metadata": {
        "colab": {
          "base_uri": "https://localhost:8080/"
        },
        "collapsed": true,
        "id": "FtigRibzAiD1",
        "outputId": "dfe909ed-6c5a-4a67-8c1d-11077d40d51d"
      },
      "execution_count": null,
      "outputs": [
        {
          "output_type": "stream",
          "name": "stdout",
          "text": [
            "Requirement already satisfied: cupy-cuda12x in /usr/local/lib/python3.11/dist-packages (13.3.0)\n",
            "Collecting py-boost\n",
            "  Downloading py_boost-0.5.1-py3-none-any.whl.metadata (5.3 kB)\n",
            "Requirement already satisfied: numpy<2.3,>=1.22 in /usr/local/lib/python3.11/dist-packages (from cupy-cuda12x) (2.0.2)\n",
            "Requirement already satisfied: fastrlock>=0.5 in /usr/local/lib/python3.11/dist-packages (from cupy-cuda12x) (0.8.3)\n",
            "Requirement already satisfied: joblib in /usr/local/lib/python3.11/dist-packages (from py-boost) (1.4.2)\n",
            "Requirement already satisfied: numba in /usr/local/lib/python3.11/dist-packages (from py-boost) (0.60.0)\n",
            "Collecting onnx<2,>=1.16 (from py-boost)\n",
            "  Downloading onnx-1.17.0-cp311-cp311-manylinux_2_17_x86_64.manylinux2014_x86_64.whl.metadata (16 kB)\n",
            "Collecting onnxruntime<2,>=1.16 (from py-boost)\n",
            "  Downloading onnxruntime-1.21.0-cp311-cp311-manylinux_2_27_x86_64.manylinux_2_28_x86_64.whl.metadata (4.5 kB)\n",
            "Requirement already satisfied: pandas>=1 in /usr/local/lib/python3.11/dist-packages (from py-boost) (2.2.2)\n",
            "Requirement already satisfied: scikit-learn>=1 in /usr/local/lib/python3.11/dist-packages (from py-boost) (1.6.1)\n",
            "Requirement already satisfied: tqdm>=4.64.1 in /usr/local/lib/python3.11/dist-packages (from py-boost) (4.67.1)\n",
            "Collecting treelite<4,>=3 (from py-boost)\n",
            "  Downloading treelite-3.9.1-py3-none-manylinux2014_x86_64.whl.metadata (781 bytes)\n",
            "Collecting treelite_runtime<4,>=3 (from py-boost)\n",
            "  Downloading treelite_runtime-3.9.1-py3-none-manylinux2014_x86_64.whl.metadata (654 bytes)\n",
            "Collecting ujson (from py-boost)\n",
            "  Downloading ujson-5.10.0-cp311-cp311-manylinux_2_17_x86_64.manylinux2014_x86_64.whl.metadata (9.3 kB)\n",
            "Requirement already satisfied: protobuf>=3.20.2 in /usr/local/lib/python3.11/dist-packages (from onnx<2,>=1.16->py-boost) (5.29.4)\n",
            "Collecting coloredlogs (from onnxruntime<2,>=1.16->py-boost)\n",
            "  Downloading coloredlogs-15.0.1-py2.py3-none-any.whl.metadata (12 kB)\n",
            "Requirement already satisfied: flatbuffers in /usr/local/lib/python3.11/dist-packages (from onnxruntime<2,>=1.16->py-boost) (25.2.10)\n",
            "Requirement already satisfied: packaging in /usr/local/lib/python3.11/dist-packages (from onnxruntime<2,>=1.16->py-boost) (24.2)\n",
            "Requirement already satisfied: sympy in /usr/local/lib/python3.11/dist-packages (from onnxruntime<2,>=1.16->py-boost) (1.13.1)\n",
            "Requirement already satisfied: python-dateutil>=2.8.2 in /usr/local/lib/python3.11/dist-packages (from pandas>=1->py-boost) (2.8.2)\n",
            "Requirement already satisfied: pytz>=2020.1 in /usr/local/lib/python3.11/dist-packages (from pandas>=1->py-boost) (2025.1)\n",
            "Requirement already satisfied: tzdata>=2022.7 in /usr/local/lib/python3.11/dist-packages (from pandas>=1->py-boost) (2025.1)\n",
            "Requirement already satisfied: scipy>=1.6.0 in /usr/local/lib/python3.11/dist-packages (from scikit-learn>=1->py-boost) (1.14.1)\n",
            "Requirement already satisfied: threadpoolctl>=3.1.0 in /usr/local/lib/python3.11/dist-packages (from scikit-learn>=1->py-boost) (3.6.0)\n",
            "Requirement already satisfied: llvmlite<0.44,>=0.43.0dev0 in /usr/local/lib/python3.11/dist-packages (from numba->py-boost) (0.43.0)\n",
            "Requirement already satisfied: six>=1.5 in /usr/local/lib/python3.11/dist-packages (from python-dateutil>=2.8.2->pandas>=1->py-boost) (1.17.0)\n",
            "Collecting humanfriendly>=9.1 (from coloredlogs->onnxruntime<2,>=1.16->py-boost)\n",
            "  Downloading humanfriendly-10.0-py2.py3-none-any.whl.metadata (9.2 kB)\n",
            "Requirement already satisfied: mpmath<1.4,>=1.1.0 in /usr/local/lib/python3.11/dist-packages (from sympy->onnxruntime<2,>=1.16->py-boost) (1.3.0)\n",
            "Downloading py_boost-0.5.1-py3-none-any.whl (63 kB)\n",
            "\u001b[2K   \u001b[90m━━━━━━━━━━━━━━━━━━━━━━━━━━━━━━━━━━━━━━━━\u001b[0m \u001b[32m63.1/63.1 kB\u001b[0m \u001b[31m3.9 MB/s\u001b[0m eta \u001b[36m0:00:00\u001b[0m\n",
            "\u001b[?25hDownloading onnx-1.17.0-cp311-cp311-manylinux_2_17_x86_64.manylinux2014_x86_64.whl (16.0 MB)\n",
            "\u001b[2K   \u001b[90m━━━━━━━━━━━━━━━━━━━━━━━━━━━━━━━━━━━━━━━━\u001b[0m \u001b[32m16.0/16.0 MB\u001b[0m \u001b[31m15.1 MB/s\u001b[0m eta \u001b[36m0:00:00\u001b[0m\n",
            "\u001b[?25hDownloading onnxruntime-1.21.0-cp311-cp311-manylinux_2_27_x86_64.manylinux_2_28_x86_64.whl (16.0 MB)\n",
            "\u001b[2K   \u001b[90m━━━━━━━━━━━━━━━━━━━━━━━━━━━━━━━━━━━━━━━━\u001b[0m \u001b[32m16.0/16.0 MB\u001b[0m \u001b[31m26.9 MB/s\u001b[0m eta \u001b[36m0:00:00\u001b[0m\n",
            "\u001b[?25hDownloading treelite-3.9.1-py3-none-manylinux2014_x86_64.whl (1.0 MB)\n",
            "\u001b[2K   \u001b[90m━━━━━━━━━━━━━━━━━━━━━━━━━━━━━━━━━━━━━━━━\u001b[0m \u001b[32m1.0/1.0 MB\u001b[0m \u001b[31m42.9 MB/s\u001b[0m eta \u001b[36m0:00:00\u001b[0m\n",
            "\u001b[?25hDownloading treelite_runtime-3.9.1-py3-none-manylinux2014_x86_64.whl (198 kB)\n",
            "\u001b[2K   \u001b[90m━━━━━━━━━━━━━━━━━━━━━━━━━━━━━━━━━━━━━━━━\u001b[0m \u001b[32m198.7/198.7 kB\u001b[0m \u001b[31m14.3 MB/s\u001b[0m eta \u001b[36m0:00:00\u001b[0m\n",
            "\u001b[?25hDownloading ujson-5.10.0-cp311-cp311-manylinux_2_17_x86_64.manylinux2014_x86_64.whl (53 kB)\n",
            "\u001b[2K   \u001b[90m━━━━━━━━━━━━━━━━━━━━━━━━━━━━━━━━━━━━━━━━\u001b[0m \u001b[32m53.6/53.6 kB\u001b[0m \u001b[31m2.6 MB/s\u001b[0m eta \u001b[36m0:00:00\u001b[0m\n",
            "\u001b[?25hDownloading coloredlogs-15.0.1-py2.py3-none-any.whl (46 kB)\n",
            "\u001b[2K   \u001b[90m━━━━━━━━━━━━━━━━━━━━━━━━━━━━━━━━━━━━━━━━\u001b[0m \u001b[32m46.0/46.0 kB\u001b[0m \u001b[31m2.7 MB/s\u001b[0m eta \u001b[36m0:00:00\u001b[0m\n",
            "\u001b[?25hDownloading humanfriendly-10.0-py2.py3-none-any.whl (86 kB)\n",
            "\u001b[2K   \u001b[90m━━━━━━━━━━━━━━━━━━━━━━━━━━━━━━━━━━━━━━━━\u001b[0m \u001b[32m86.8/86.8 kB\u001b[0m \u001b[31m4.7 MB/s\u001b[0m eta \u001b[36m0:00:00\u001b[0m\n",
            "\u001b[?25hInstalling collected packages: ujson, onnx, humanfriendly, treelite_runtime, treelite, coloredlogs, onnxruntime, py-boost\n",
            "  Attempting uninstall: treelite\n",
            "    Found existing installation: treelite 4.4.1\n",
            "    Uninstalling treelite-4.4.1:\n",
            "      Successfully uninstalled treelite-4.4.1\n",
            "\u001b[31mERROR: pip's dependency resolver does not currently take into account all the packages that are installed. This behaviour is the source of the following dependency conflicts.\n",
            "cuml-cu12 25.2.1 requires treelite==4.4.1, but you have treelite 3.9.1 which is incompatible.\u001b[0m\u001b[31m\n",
            "\u001b[0mSuccessfully installed coloredlogs-15.0.1 humanfriendly-10.0 onnx-1.17.0 onnxruntime-1.21.0 py-boost-0.5.1 treelite-3.9.1 treelite_runtime-3.9.1 ujson-5.10.0\n"
          ]
        }
      ]
    },
    {
      "cell_type": "code",
      "source": [
        "from py_boost import GradientBoosting, TLPredictor, TLCompiledPredictor\n",
        "from py_boost.cv import CrossValidation"
      ],
      "metadata": {
        "id": "JHIN1ZkWAxjU"
      },
      "execution_count": null,
      "outputs": []
    },
    {
      "cell_type": "code",
      "source": [
        "from py_boost import GradientBoosting, SketchBoost\n",
        "from py_boost.gpu.losses.multiclass_metrics import MultiF1Score"
      ],
      "metadata": {
        "id": "aeuVcV4sA35c"
      },
      "execution_count": null,
      "outputs": []
    },
    {
      "cell_type": "code",
      "source": [
        "import torch\n",
        "\n",
        "\n",
        "def count_f1_max(pred, target):\n",
        "\t\"\"\"\n",
        "\t    F1 score with the optimal threshold, Copied from TorchDrug.\n",
        "\n",
        "\t    This function first enumerates all possible thresholds for deciding positive and negative\n",
        "\t    samples, and then pick the threshold with the maximal F1 score.\n",
        "\n",
        "\t    Parameters:\n",
        "\t        pred (Tensor): predictions of shape :math:`(B, N)`\n",
        "\t        target (Tensor): binary targets of shape :math:`(B, N)`\n",
        "    \"\"\"\n",
        "\tpred = torch.Tensor(pred)\n",
        "\ttarget = torch.Tensor(target)\n",
        "\tif target.sum() == 0:\n",
        "\t\treturn 0.0\n",
        "\torder = pred.argsort(descending=True, dim=1)\n",
        "\ttarget = target.gather(1, order)\n",
        "\tprecision = target.cumsum(1) / torch.ones_like(target).cumsum(1)\n",
        "\trecall = target.cumsum(1) / (target.sum(1, keepdim=True) + 1e-10)\n",
        "\tis_start = torch.zeros_like(target).bool()\n",
        "\tis_start[:, 0] = 1\n",
        "\tis_start = torch.scatter(is_start, 1, order, is_start)\n",
        "\n",
        "\tall_order = pred.flatten().argsort(descending=True)\n",
        "\torder = order + torch.arange(order.shape[0], device=order.device).unsqueeze(1) * order.shape[1]\n",
        "\torder = order.flatten()\n",
        "\tinv_order = torch.zeros_like(order)\n",
        "\tinv_order[order] = torch.arange(order.shape[0], device=order.device)\n",
        "\tis_start = is_start.flatten()[all_order]\n",
        "\tall_order = inv_order[all_order]\n",
        "\tprecision = precision.flatten()\n",
        "\trecall = recall.flatten()\n",
        "\tall_precision = precision[all_order] - \\\n",
        "\t                torch.where(is_start, torch.zeros_like(precision), precision[all_order - 1])\n",
        "\tall_precision = all_precision.cumsum(0) / is_start.cumsum(0)\n",
        "\tall_recall = recall[all_order] - \\\n",
        "\t             torch.where(is_start, torch.zeros_like(recall), recall[all_order - 1])\n",
        "\tall_recall = all_recall.cumsum(0) / pred.shape[0]\n",
        "\tall_f1 = 2 * all_precision * all_recall / (all_precision + all_recall + 1e-10)\n",
        "\tall_f1 = torch.nan_to_num(all_f1, nan=0.0)\n",
        "\treturn all_f1.max().item()"
      ],
      "metadata": {
        "id": "6ozOkT8VGEP0"
      },
      "execution_count": null,
      "outputs": []
    },
    {
      "cell_type": "code",
      "source": [
        "lrs = [0.5, 0.1, 0.05]\n",
        "lr2f1 = {}"
      ],
      "metadata": {
        "id": "MEqXjHdJFbQY"
      },
      "execution_count": null,
      "outputs": []
    },
    {
      "cell_type": "code",
      "source": [
        "from sklearn.model_selection import train_test_split"
      ],
      "metadata": {
        "id": "SIce98EEQAw-"
      },
      "execution_count": null,
      "outputs": []
    },
    {
      "cell_type": "code",
      "source": [
        "features_temp = features_temp.reshape(-1, 660*7)"
      ],
      "metadata": {
        "id": "fMnKavK4GaMU"
      },
      "execution_count": null,
      "outputs": []
    },
    {
      "cell_type": "code",
      "source": [
        "X_train, X_test, y_train, y_test = train_test_split(\n",
        "    features_temp,\n",
        "    y_mf,\n",
        "    test_size=0.2,\n",
        "    random_state=42\n",
        ")\n",
        "print('Start fitting MF')\n",
        "for lr in lrs:\n",
        "    model_mf = SketchBoost(\n",
        "            loss='multilabel', metric='f1',\n",
        "            ntrees=10000, lr=lr, verbose=300, es=300, lambda_l2=1, gd_steps=1,\n",
        "            subsample=1, colsample=1, min_data_in_leaf=10,\n",
        "            max_bin=256, max_depth=6,\n",
        "        ).fit(X_train, y_train, eval_sets = [{'X': np.array(X_test), 'y': y_test}])\n",
        "    preds_mf = model_mf.predict(np.array(X_test))\n",
        "    f1_score_mf = count_f1_max(np.array(preds_mf), y_test)\n",
        "    lr2f1[lr] = {'MF': f1_score_mf}"
      ],
      "metadata": {
        "colab": {
          "base_uri": "https://localhost:8080/"
        },
        "id": "_CmGaa6rCMAd",
        "outputId": "3a964294-9a89-4bb7-ef99-18db9f24dd53"
      },
      "execution_count": null,
      "outputs": [
        {
          "output_type": "stream",
          "name": "stdout",
          "text": [
            "Start fitting MF\n",
            "[17:44:47] Stdout logging level is INFO.\n"
          ]
        },
        {
          "output_type": "stream",
          "name": "stderr",
          "text": [
            "INFO:py_boost.callbacks.callback:Stdout logging level is INFO.\n"
          ]
        },
        {
          "output_type": "stream",
          "name": "stdout",
          "text": [
            "[17:44:47] GDBT train starts. Max iter 10000, early stopping rounds 300\n"
          ]
        },
        {
          "output_type": "stream",
          "name": "stderr",
          "text": [
            "INFO:py_boost.callbacks.callback:GDBT train starts. Max iter 10000, early stopping rounds 300\n"
          ]
        },
        {
          "output_type": "stream",
          "name": "stdout",
          "text": [
            "[17:44:48] Iter 0; Sample 0, F1_score = 0.0601290373203696; \n"
          ]
        },
        {
          "output_type": "stream",
          "name": "stderr",
          "text": [
            "INFO:py_boost.callbacks.callback:Iter 0; Sample 0, F1_score = 0.0601290373203696; \n"
          ]
        },
        {
          "output_type": "stream",
          "name": "stdout",
          "text": [
            "[17:45:06] Iter 300; Sample 0, F1_score = 0.36040246107278257; \n"
          ]
        },
        {
          "output_type": "stream",
          "name": "stderr",
          "text": [
            "INFO:py_boost.callbacks.callback:Iter 300; Sample 0, F1_score = 0.36040246107278257; \n"
          ]
        },
        {
          "output_type": "stream",
          "name": "stdout",
          "text": [
            "[17:45:24] Iter 600; Sample 0, F1_score = 0.37376064267357856; \n"
          ]
        },
        {
          "output_type": "stream",
          "name": "stderr",
          "text": [
            "INFO:py_boost.callbacks.callback:Iter 600; Sample 0, F1_score = 0.37376064267357856; \n"
          ]
        },
        {
          "output_type": "stream",
          "name": "stdout",
          "text": [
            "[17:45:42] Iter 900; Sample 0, F1_score = 0.37479109788251275; \n"
          ]
        },
        {
          "output_type": "stream",
          "name": "stderr",
          "text": [
            "INFO:py_boost.callbacks.callback:Iter 900; Sample 0, F1_score = 0.37479109788251275; \n"
          ]
        },
        {
          "output_type": "stream",
          "name": "stdout",
          "text": [
            "[17:45:58] Iter 1200; Sample 0, F1_score = 0.37949052907147374; \n"
          ]
        },
        {
          "output_type": "stream",
          "name": "stderr",
          "text": [
            "INFO:py_boost.callbacks.callback:Iter 1200; Sample 0, F1_score = 0.37949052907147374; \n"
          ]
        },
        {
          "output_type": "stream",
          "name": "stdout",
          "text": [
            "[17:46:15] Iter 1500; Sample 0, F1_score = 0.38443480896194976; \n"
          ]
        },
        {
          "output_type": "stream",
          "name": "stderr",
          "text": [
            "INFO:py_boost.callbacks.callback:Iter 1500; Sample 0, F1_score = 0.38443480896194976; \n"
          ]
        },
        {
          "output_type": "stream",
          "name": "stdout",
          "text": [
            "[17:46:31] Iter 1800; Sample 0, F1_score = 0.38553378611059363; \n"
          ]
        },
        {
          "output_type": "stream",
          "name": "stderr",
          "text": [
            "INFO:py_boost.callbacks.callback:Iter 1800; Sample 0, F1_score = 0.38553378611059363; \n"
          ]
        },
        {
          "output_type": "stream",
          "name": "stdout",
          "text": [
            "[17:46:48] Iter 2100; Sample 0, F1_score = 0.38573483282357174; \n"
          ]
        },
        {
          "output_type": "stream",
          "name": "stderr",
          "text": [
            "INFO:py_boost.callbacks.callback:Iter 2100; Sample 0, F1_score = 0.38573483282357174; \n"
          ]
        },
        {
          "output_type": "stream",
          "name": "stdout",
          "text": [
            "[17:47:04] Iter 2400; Sample 0, F1_score = 0.39002272221468903; \n"
          ]
        },
        {
          "output_type": "stream",
          "name": "stderr",
          "text": [
            "INFO:py_boost.callbacks.callback:Iter 2400; Sample 0, F1_score = 0.39002272221468903; \n"
          ]
        },
        {
          "output_type": "stream",
          "name": "stdout",
          "text": [
            "[17:47:21] Iter 2700; Sample 0, F1_score = 0.39077418753117416; \n"
          ]
        },
        {
          "output_type": "stream",
          "name": "stderr",
          "text": [
            "INFO:py_boost.callbacks.callback:Iter 2700; Sample 0, F1_score = 0.39077418753117416; \n"
          ]
        },
        {
          "output_type": "stream",
          "name": "stdout",
          "text": [
            "[17:47:37] Iter 3000; Sample 0, F1_score = 0.39158900853349865; \n"
          ]
        },
        {
          "output_type": "stream",
          "name": "stderr",
          "text": [
            "INFO:py_boost.callbacks.callback:Iter 3000; Sample 0, F1_score = 0.39158900853349865; \n"
          ]
        },
        {
          "output_type": "stream",
          "name": "stdout",
          "text": [
            "[17:47:53] Iter 3300; Sample 0, F1_score = 0.39178247587553205; \n"
          ]
        },
        {
          "output_type": "stream",
          "name": "stderr",
          "text": [
            "INFO:py_boost.callbacks.callback:Iter 3300; Sample 0, F1_score = 0.39178247587553205; \n"
          ]
        },
        {
          "output_type": "stream",
          "name": "stdout",
          "text": [
            "[17:48:10] Iter 3600; Sample 0, F1_score = 0.3927789783607323; \n"
          ]
        },
        {
          "output_type": "stream",
          "name": "stderr",
          "text": [
            "INFO:py_boost.callbacks.callback:Iter 3600; Sample 0, F1_score = 0.3927789783607323; \n"
          ]
        },
        {
          "output_type": "stream",
          "name": "stdout",
          "text": [
            "[17:48:20] Early stopping at iter 3777, best iter 3477, best_score 0.39306475080722053\n"
          ]
        },
        {
          "output_type": "stream",
          "name": "stderr",
          "text": [
            "INFO:py_boost.callbacks.callback:Early stopping at iter 3777, best iter 3477, best_score 0.39306475080722053\n"
          ]
        },
        {
          "output_type": "stream",
          "name": "stdout",
          "text": [
            "[17:48:28] Stdout logging level is INFO.\n"
          ]
        },
        {
          "output_type": "stream",
          "name": "stderr",
          "text": [
            "INFO:py_boost.callbacks.callback:Stdout logging level is INFO.\n"
          ]
        },
        {
          "output_type": "stream",
          "name": "stdout",
          "text": [
            "[17:48:28] GDBT train starts. Max iter 10000, early stopping rounds 300\n"
          ]
        },
        {
          "output_type": "stream",
          "name": "stderr",
          "text": [
            "INFO:py_boost.callbacks.callback:GDBT train starts. Max iter 10000, early stopping rounds 300\n"
          ]
        },
        {
          "output_type": "stream",
          "name": "stdout",
          "text": [
            "[17:48:28] Iter 0; Sample 0, F1_score = 0.0; \n"
          ]
        },
        {
          "output_type": "stream",
          "name": "stderr",
          "text": [
            "INFO:py_boost.callbacks.callback:Iter 0; Sample 0, F1_score = 0.0; \n"
          ]
        },
        {
          "output_type": "stream",
          "name": "stdout",
          "text": [
            "[17:48:48] Iter 300; Sample 0, F1_score = 0.3152998447450429; \n"
          ]
        },
        {
          "output_type": "stream",
          "name": "stderr",
          "text": [
            "INFO:py_boost.callbacks.callback:Iter 300; Sample 0, F1_score = 0.3152998447450429; \n"
          ]
        },
        {
          "output_type": "stream",
          "name": "stdout",
          "text": [
            "[17:49:07] Iter 600; Sample 0, F1_score = 0.3468211609138035; \n"
          ]
        },
        {
          "output_type": "stream",
          "name": "stderr",
          "text": [
            "INFO:py_boost.callbacks.callback:Iter 600; Sample 0, F1_score = 0.3468211609138035; \n"
          ]
        },
        {
          "output_type": "stream",
          "name": "stdout",
          "text": [
            "[17:49:25] Iter 900; Sample 0, F1_score = 0.3602448250060577; \n"
          ]
        },
        {
          "output_type": "stream",
          "name": "stderr",
          "text": [
            "INFO:py_boost.callbacks.callback:Iter 900; Sample 0, F1_score = 0.3602448250060577; \n"
          ]
        },
        {
          "output_type": "stream",
          "name": "stdout",
          "text": [
            "[17:49:44] Iter 1200; Sample 0, F1_score = 0.37127198599626954; \n"
          ]
        },
        {
          "output_type": "stream",
          "name": "stderr",
          "text": [
            "INFO:py_boost.callbacks.callback:Iter 1200; Sample 0, F1_score = 0.37127198599626954; \n"
          ]
        },
        {
          "output_type": "stream",
          "name": "stdout",
          "text": [
            "[17:50:02] Iter 1500; Sample 0, F1_score = 0.377054746971124; \n"
          ]
        },
        {
          "output_type": "stream",
          "name": "stderr",
          "text": [
            "INFO:py_boost.callbacks.callback:Iter 1500; Sample 0, F1_score = 0.377054746971124; \n"
          ]
        },
        {
          "output_type": "stream",
          "name": "stdout",
          "text": [
            "[17:50:19] Iter 1800; Sample 0, F1_score = 0.3815032355255255; \n"
          ]
        },
        {
          "output_type": "stream",
          "name": "stderr",
          "text": [
            "INFO:py_boost.callbacks.callback:Iter 1800; Sample 0, F1_score = 0.3815032355255255; \n"
          ]
        },
        {
          "output_type": "stream",
          "name": "stdout",
          "text": [
            "[17:50:37] Iter 2100; Sample 0, F1_score = 0.385062149188147; \n"
          ]
        },
        {
          "output_type": "stream",
          "name": "stderr",
          "text": [
            "INFO:py_boost.callbacks.callback:Iter 2100; Sample 0, F1_score = 0.385062149188147; \n"
          ]
        },
        {
          "output_type": "stream",
          "name": "stdout",
          "text": [
            "[17:50:54] Iter 2400; Sample 0, F1_score = 0.3864450368089102; \n"
          ]
        },
        {
          "output_type": "stream",
          "name": "stderr",
          "text": [
            "INFO:py_boost.callbacks.callback:Iter 2400; Sample 0, F1_score = 0.3864450368089102; \n"
          ]
        },
        {
          "output_type": "stream",
          "name": "stdout",
          "text": [
            "[17:51:11] Iter 2700; Sample 0, F1_score = 0.39004686862833765; \n"
          ]
        },
        {
          "output_type": "stream",
          "name": "stderr",
          "text": [
            "INFO:py_boost.callbacks.callback:Iter 2700; Sample 0, F1_score = 0.39004686862833765; \n"
          ]
        },
        {
          "output_type": "stream",
          "name": "stdout",
          "text": [
            "[17:51:28] Iter 3000; Sample 0, F1_score = 0.3896754630406611; \n"
          ]
        },
        {
          "output_type": "stream",
          "name": "stderr",
          "text": [
            "INFO:py_boost.callbacks.callback:Iter 3000; Sample 0, F1_score = 0.3896754630406611; \n"
          ]
        },
        {
          "output_type": "stream",
          "name": "stdout",
          "text": [
            "[17:51:45] Iter 3300; Sample 0, F1_score = 0.39296898072764436; \n"
          ]
        },
        {
          "output_type": "stream",
          "name": "stderr",
          "text": [
            "INFO:py_boost.callbacks.callback:Iter 3300; Sample 0, F1_score = 0.39296898072764436; \n"
          ]
        },
        {
          "output_type": "stream",
          "name": "stdout",
          "text": [
            "[17:52:02] Iter 3600; Sample 0, F1_score = 0.39402791626967426; \n"
          ]
        },
        {
          "output_type": "stream",
          "name": "stderr",
          "text": [
            "INFO:py_boost.callbacks.callback:Iter 3600; Sample 0, F1_score = 0.39402791626967426; \n"
          ]
        },
        {
          "output_type": "stream",
          "name": "stdout",
          "text": [
            "[17:52:18] Iter 3900; Sample 0, F1_score = 0.3949126478567877; \n"
          ]
        },
        {
          "output_type": "stream",
          "name": "stderr",
          "text": [
            "INFO:py_boost.callbacks.callback:Iter 3900; Sample 0, F1_score = 0.3949126478567877; \n"
          ]
        },
        {
          "output_type": "stream",
          "name": "stdout",
          "text": [
            "[17:52:36] Iter 4200; Sample 0, F1_score = 0.39743473600791557; \n"
          ]
        },
        {
          "output_type": "stream",
          "name": "stderr",
          "text": [
            "INFO:py_boost.callbacks.callback:Iter 4200; Sample 0, F1_score = 0.39743473600791557; \n"
          ]
        },
        {
          "output_type": "stream",
          "name": "stdout",
          "text": [
            "[17:52:52] Iter 4500; Sample 0, F1_score = 0.3981395615207129; \n"
          ]
        },
        {
          "output_type": "stream",
          "name": "stderr",
          "text": [
            "INFO:py_boost.callbacks.callback:Iter 4500; Sample 0, F1_score = 0.3981395615207129; \n"
          ]
        },
        {
          "output_type": "stream",
          "name": "stdout",
          "text": [
            "[17:53:09] Iter 4800; Sample 0, F1_score = 0.3988371112722572; \n"
          ]
        },
        {
          "output_type": "stream",
          "name": "stderr",
          "text": [
            "INFO:py_boost.callbacks.callback:Iter 4800; Sample 0, F1_score = 0.3988371112722572; \n"
          ]
        },
        {
          "output_type": "stream",
          "name": "stdout",
          "text": [
            "[17:53:26] Iter 5100; Sample 0, F1_score = 0.401263712506163; \n"
          ]
        },
        {
          "output_type": "stream",
          "name": "stderr",
          "text": [
            "INFO:py_boost.callbacks.callback:Iter 5100; Sample 0, F1_score = 0.401263712506163; \n"
          ]
        },
        {
          "output_type": "stream",
          "name": "stdout",
          "text": [
            "[17:53:43] Iter 5400; Sample 0, F1_score = 0.40217399267821696; \n"
          ]
        },
        {
          "output_type": "stream",
          "name": "stderr",
          "text": [
            "INFO:py_boost.callbacks.callback:Iter 5400; Sample 0, F1_score = 0.40217399267821696; \n"
          ]
        },
        {
          "output_type": "stream",
          "name": "stdout",
          "text": [
            "[17:53:49] Early stopping at iter 5516, best iter 5216, best_score 0.40238366630296246\n"
          ]
        },
        {
          "output_type": "stream",
          "name": "stderr",
          "text": [
            "INFO:py_boost.callbacks.callback:Early stopping at iter 5516, best iter 5216, best_score 0.40238366630296246\n"
          ]
        },
        {
          "output_type": "stream",
          "name": "stdout",
          "text": [
            "[17:53:58] Stdout logging level is INFO.\n"
          ]
        },
        {
          "output_type": "stream",
          "name": "stderr",
          "text": [
            "INFO:py_boost.callbacks.callback:Stdout logging level is INFO.\n"
          ]
        },
        {
          "output_type": "stream",
          "name": "stdout",
          "text": [
            "[17:53:58] GDBT train starts. Max iter 10000, early stopping rounds 300\n"
          ]
        },
        {
          "output_type": "stream",
          "name": "stderr",
          "text": [
            "INFO:py_boost.callbacks.callback:GDBT train starts. Max iter 10000, early stopping rounds 300\n"
          ]
        },
        {
          "output_type": "stream",
          "name": "stdout",
          "text": [
            "[17:53:58] Iter 0; Sample 0, F1_score = 0.0; \n"
          ]
        },
        {
          "output_type": "stream",
          "name": "stderr",
          "text": [
            "INFO:py_boost.callbacks.callback:Iter 0; Sample 0, F1_score = 0.0; \n"
          ]
        },
        {
          "output_type": "stream",
          "name": "stdout",
          "text": [
            "[17:54:18] Iter 300; Sample 0, F1_score = 0.2589899437701274; \n"
          ]
        },
        {
          "output_type": "stream",
          "name": "stderr",
          "text": [
            "INFO:py_boost.callbacks.callback:Iter 300; Sample 0, F1_score = 0.2589899437701274; \n"
          ]
        },
        {
          "output_type": "stream",
          "name": "stdout",
          "text": [
            "[17:54:38] Iter 600; Sample 0, F1_score = 0.3138138713592375; \n"
          ]
        },
        {
          "output_type": "stream",
          "name": "stderr",
          "text": [
            "INFO:py_boost.callbacks.callback:Iter 600; Sample 0, F1_score = 0.3138138713592375; \n"
          ]
        },
        {
          "output_type": "stream",
          "name": "stdout",
          "text": [
            "[17:54:57] Iter 900; Sample 0, F1_score = 0.33769801809989913; \n"
          ]
        },
        {
          "output_type": "stream",
          "name": "stderr",
          "text": [
            "INFO:py_boost.callbacks.callback:Iter 900; Sample 0, F1_score = 0.33769801809989913; \n"
          ]
        },
        {
          "output_type": "stream",
          "name": "stdout",
          "text": [
            "[17:55:16] Iter 1200; Sample 0, F1_score = 0.3450521537877861; \n"
          ]
        },
        {
          "output_type": "stream",
          "name": "stderr",
          "text": [
            "INFO:py_boost.callbacks.callback:Iter 1200; Sample 0, F1_score = 0.3450521537877861; \n"
          ]
        },
        {
          "output_type": "stream",
          "name": "stdout",
          "text": [
            "[17:55:35] Iter 1500; Sample 0, F1_score = 0.35312991703619273; \n"
          ]
        },
        {
          "output_type": "stream",
          "name": "stderr",
          "text": [
            "INFO:py_boost.callbacks.callback:Iter 1500; Sample 0, F1_score = 0.35312991703619273; \n"
          ]
        },
        {
          "output_type": "stream",
          "name": "stdout",
          "text": [
            "[17:55:53] Iter 1800; Sample 0, F1_score = 0.35821420800969495; \n"
          ]
        },
        {
          "output_type": "stream",
          "name": "stderr",
          "text": [
            "INFO:py_boost.callbacks.callback:Iter 1800; Sample 0, F1_score = 0.35821420800969495; \n"
          ]
        },
        {
          "output_type": "stream",
          "name": "stdout",
          "text": [
            "[17:56:12] Iter 2100; Sample 0, F1_score = 0.36754975961160125; \n"
          ]
        },
        {
          "output_type": "stream",
          "name": "stderr",
          "text": [
            "INFO:py_boost.callbacks.callback:Iter 2100; Sample 0, F1_score = 0.36754975961160125; \n"
          ]
        },
        {
          "output_type": "stream",
          "name": "stdout",
          "text": [
            "[17:56:30] Iter 2400; Sample 0, F1_score = 0.3726963478918014; \n"
          ]
        },
        {
          "output_type": "stream",
          "name": "stderr",
          "text": [
            "INFO:py_boost.callbacks.callback:Iter 2400; Sample 0, F1_score = 0.3726963478918014; \n"
          ]
        },
        {
          "output_type": "stream",
          "name": "stdout",
          "text": [
            "[17:56:48] Iter 2700; Sample 0, F1_score = 0.3749477917932435; \n"
          ]
        },
        {
          "output_type": "stream",
          "name": "stderr",
          "text": [
            "INFO:py_boost.callbacks.callback:Iter 2700; Sample 0, F1_score = 0.3749477917932435; \n"
          ]
        },
        {
          "output_type": "stream",
          "name": "stdout",
          "text": [
            "[17:57:06] Iter 3000; Sample 0, F1_score = 0.3777954297615387; \n"
          ]
        },
        {
          "output_type": "stream",
          "name": "stderr",
          "text": [
            "INFO:py_boost.callbacks.callback:Iter 3000; Sample 0, F1_score = 0.3777954297615387; \n"
          ]
        },
        {
          "output_type": "stream",
          "name": "stdout",
          "text": [
            "[17:57:23] Iter 3300; Sample 0, F1_score = 0.37971170235270235; \n"
          ]
        },
        {
          "output_type": "stream",
          "name": "stderr",
          "text": [
            "INFO:py_boost.callbacks.callback:Iter 3300; Sample 0, F1_score = 0.37971170235270235; \n"
          ]
        },
        {
          "output_type": "stream",
          "name": "stdout",
          "text": [
            "[17:57:42] Iter 3600; Sample 0, F1_score = 0.3813675332349611; \n"
          ]
        },
        {
          "output_type": "stream",
          "name": "stderr",
          "text": [
            "INFO:py_boost.callbacks.callback:Iter 3600; Sample 0, F1_score = 0.3813675332349611; \n"
          ]
        },
        {
          "output_type": "stream",
          "name": "stdout",
          "text": [
            "[17:57:59] Iter 3900; Sample 0, F1_score = 0.3835126041400256; \n"
          ]
        },
        {
          "output_type": "stream",
          "name": "stderr",
          "text": [
            "INFO:py_boost.callbacks.callback:Iter 3900; Sample 0, F1_score = 0.3835126041400256; \n"
          ]
        },
        {
          "output_type": "stream",
          "name": "stdout",
          "text": [
            "[17:58:17] Iter 4200; Sample 0, F1_score = 0.3878293221761543; \n"
          ]
        },
        {
          "output_type": "stream",
          "name": "stderr",
          "text": [
            "INFO:py_boost.callbacks.callback:Iter 4200; Sample 0, F1_score = 0.3878293221761543; \n"
          ]
        },
        {
          "output_type": "stream",
          "name": "stdout",
          "text": [
            "[17:58:34] Iter 4500; Sample 0, F1_score = 0.38726714465147605; \n"
          ]
        },
        {
          "output_type": "stream",
          "name": "stderr",
          "text": [
            "INFO:py_boost.callbacks.callback:Iter 4500; Sample 0, F1_score = 0.38726714465147605; \n"
          ]
        },
        {
          "output_type": "stream",
          "name": "stdout",
          "text": [
            "[17:58:51] Iter 4800; Sample 0, F1_score = 0.38943473560166825; \n"
          ]
        },
        {
          "output_type": "stream",
          "name": "stderr",
          "text": [
            "INFO:py_boost.callbacks.callback:Iter 4800; Sample 0, F1_score = 0.38943473560166825; \n"
          ]
        },
        {
          "output_type": "stream",
          "name": "stdout",
          "text": [
            "[17:59:09] Iter 5100; Sample 0, F1_score = 0.3903186133767423; \n"
          ]
        },
        {
          "output_type": "stream",
          "name": "stderr",
          "text": [
            "INFO:py_boost.callbacks.callback:Iter 5100; Sample 0, F1_score = 0.3903186133767423; \n"
          ]
        },
        {
          "output_type": "stream",
          "name": "stdout",
          "text": [
            "[17:59:26] Iter 5400; Sample 0, F1_score = 0.3908151224202087; \n"
          ]
        },
        {
          "output_type": "stream",
          "name": "stderr",
          "text": [
            "INFO:py_boost.callbacks.callback:Iter 5400; Sample 0, F1_score = 0.3908151224202087; \n"
          ]
        },
        {
          "output_type": "stream",
          "name": "stdout",
          "text": [
            "[17:59:43] Iter 5700; Sample 0, F1_score = 0.3914396239191295; \n"
          ]
        },
        {
          "output_type": "stream",
          "name": "stderr",
          "text": [
            "INFO:py_boost.callbacks.callback:Iter 5700; Sample 0, F1_score = 0.3914396239191295; \n"
          ]
        },
        {
          "output_type": "stream",
          "name": "stdout",
          "text": [
            "[17:59:55] Early stopping at iter 5914, best iter 5614, best_score 0.3918866922032062\n"
          ]
        },
        {
          "output_type": "stream",
          "name": "stderr",
          "text": [
            "INFO:py_boost.callbacks.callback:Early stopping at iter 5914, best iter 5614, best_score 0.3918866922032062\n"
          ]
        }
      ]
    },
    {
      "cell_type": "code",
      "source": [
        "X_train, X_test, y_train, y_test = train_test_split(\n",
        "    features_temp,\n",
        "    y_cc,\n",
        "    test_size=0.2,\n",
        "    random_state=42\n",
        ")\n",
        "print('Start fitting CC')\n",
        "for lr in lrs:\n",
        "    model_cc = SketchBoost(\n",
        "            loss='multilabel', metric='f1',\n",
        "            ntrees=10000, lr=lr, verbose=300, es=300, lambda_l2=1, gd_steps=1,\n",
        "            subsample=1, colsample=1, min_data_in_leaf=10,\n",
        "            max_bin=256, max_depth=6,\n",
        "        ).fit(X_train, y_train, eval_sets = [{'X': np.array(X_test), 'y': y_test}])\n",
        "    preds_cc = model_cc.predict(np.array(X_test))\n",
        "    f1_score_cc = count_f1_max(np.array(preds_cc), y_test)\n",
        "    lr2f1[lr] = {'CC': f1_score_cc}"
      ],
      "metadata": {
        "colab": {
          "base_uri": "https://localhost:8080/"
        },
        "id": "7IsYF5iRGGYc",
        "outputId": "06743569-67e9-4017-cbff-404a7a407f0e"
      },
      "execution_count": null,
      "outputs": [
        {
          "output_type": "stream",
          "name": "stdout",
          "text": [
            "Start fitting CC\n",
            "[18:01:22] Stdout logging level is INFO.\n"
          ]
        },
        {
          "output_type": "stream",
          "name": "stderr",
          "text": [
            "INFO:py_boost.callbacks.callback:Stdout logging level is INFO.\n"
          ]
        },
        {
          "output_type": "stream",
          "name": "stdout",
          "text": [
            "[18:01:22] GDBT train starts. Max iter 10000, early stopping rounds 300\n"
          ]
        },
        {
          "output_type": "stream",
          "name": "stderr",
          "text": [
            "INFO:py_boost.callbacks.callback:GDBT train starts. Max iter 10000, early stopping rounds 300\n"
          ]
        },
        {
          "output_type": "stream",
          "name": "stdout",
          "text": [
            "[18:01:22] Iter 0; Sample 0, F1_score = 0.02074081238420696; \n"
          ]
        },
        {
          "output_type": "stream",
          "name": "stderr",
          "text": [
            "INFO:py_boost.callbacks.callback:Iter 0; Sample 0, F1_score = 0.02074081238420696; \n"
          ]
        },
        {
          "output_type": "stream",
          "name": "stdout",
          "text": [
            "[18:01:41] Iter 300; Sample 0, F1_score = 0.2567528132383679; \n"
          ]
        },
        {
          "output_type": "stream",
          "name": "stderr",
          "text": [
            "INFO:py_boost.callbacks.callback:Iter 300; Sample 0, F1_score = 0.2567528132383679; \n"
          ]
        },
        {
          "output_type": "stream",
          "name": "stdout",
          "text": [
            "[18:01:59] Iter 600; Sample 0, F1_score = 0.2629485580510871; \n"
          ]
        },
        {
          "output_type": "stream",
          "name": "stderr",
          "text": [
            "INFO:py_boost.callbacks.callback:Iter 600; Sample 0, F1_score = 0.2629485580510871; \n"
          ]
        },
        {
          "output_type": "stream",
          "name": "stdout",
          "text": [
            "[18:02:16] Iter 900; Sample 0, F1_score = 0.26836912427403353; \n"
          ]
        },
        {
          "output_type": "stream",
          "name": "stderr",
          "text": [
            "INFO:py_boost.callbacks.callback:Iter 900; Sample 0, F1_score = 0.26836912427403353; \n"
          ]
        },
        {
          "output_type": "stream",
          "name": "stdout",
          "text": [
            "[18:02:33] Iter 1200; Sample 0, F1_score = 0.27033997761185435; \n"
          ]
        },
        {
          "output_type": "stream",
          "name": "stderr",
          "text": [
            "INFO:py_boost.callbacks.callback:Iter 1200; Sample 0, F1_score = 0.27033997761185435; \n"
          ]
        },
        {
          "output_type": "stream",
          "name": "stdout",
          "text": [
            "[18:02:50] Iter 1500; Sample 0, F1_score = 0.27267029382120966; \n"
          ]
        },
        {
          "output_type": "stream",
          "name": "stderr",
          "text": [
            "INFO:py_boost.callbacks.callback:Iter 1500; Sample 0, F1_score = 0.27267029382120966; \n"
          ]
        },
        {
          "output_type": "stream",
          "name": "stdout",
          "text": [
            "[18:03:07] Iter 1800; Sample 0, F1_score = 0.27411992300048027; \n"
          ]
        },
        {
          "output_type": "stream",
          "name": "stderr",
          "text": [
            "INFO:py_boost.callbacks.callback:Iter 1800; Sample 0, F1_score = 0.27411992300048027; \n"
          ]
        },
        {
          "output_type": "stream",
          "name": "stdout",
          "text": [
            "[18:03:23] Iter 2100; Sample 0, F1_score = 0.2750847684382741; \n"
          ]
        },
        {
          "output_type": "stream",
          "name": "stderr",
          "text": [
            "INFO:py_boost.callbacks.callback:Iter 2100; Sample 0, F1_score = 0.2750847684382741; \n"
          ]
        },
        {
          "output_type": "stream",
          "name": "stdout",
          "text": [
            "[18:03:39] Iter 2400; Sample 0, F1_score = 0.2743959086961958; \n"
          ]
        },
        {
          "output_type": "stream",
          "name": "stderr",
          "text": [
            "INFO:py_boost.callbacks.callback:Iter 2400; Sample 0, F1_score = 0.2743959086961958; \n"
          ]
        },
        {
          "output_type": "stream",
          "name": "stdout",
          "text": [
            "[18:03:54] Iter 2700; Sample 0, F1_score = 0.2789987832738392; \n"
          ]
        },
        {
          "output_type": "stream",
          "name": "stderr",
          "text": [
            "INFO:py_boost.callbacks.callback:Iter 2700; Sample 0, F1_score = 0.2789987832738392; \n"
          ]
        },
        {
          "output_type": "stream",
          "name": "stdout",
          "text": [
            "[18:04:10] Iter 3000; Sample 0, F1_score = 0.2800245194344412; \n"
          ]
        },
        {
          "output_type": "stream",
          "name": "stderr",
          "text": [
            "INFO:py_boost.callbacks.callback:Iter 3000; Sample 0, F1_score = 0.2800245194344412; \n"
          ]
        },
        {
          "output_type": "stream",
          "name": "stdout",
          "text": [
            "[18:04:25] Iter 3300; Sample 0, F1_score = 0.28046858286851717; \n"
          ]
        },
        {
          "output_type": "stream",
          "name": "stderr",
          "text": [
            "INFO:py_boost.callbacks.callback:Iter 3300; Sample 0, F1_score = 0.28046858286851717; \n"
          ]
        },
        {
          "output_type": "stream",
          "name": "stdout",
          "text": [
            "[18:04:41] Iter 3600; Sample 0, F1_score = 0.2810062230959057; \n"
          ]
        },
        {
          "output_type": "stream",
          "name": "stderr",
          "text": [
            "INFO:py_boost.callbacks.callback:Iter 3600; Sample 0, F1_score = 0.2810062230959057; \n"
          ]
        },
        {
          "output_type": "stream",
          "name": "stdout",
          "text": [
            "[18:04:52] Early stopping at iter 3798, best iter 3498, best_score 0.2816050149500891\n"
          ]
        },
        {
          "output_type": "stream",
          "name": "stderr",
          "text": [
            "INFO:py_boost.callbacks.callback:Early stopping at iter 3798, best iter 3498, best_score 0.2816050149500891\n"
          ]
        },
        {
          "output_type": "stream",
          "name": "stdout",
          "text": [
            "[18:05:01] Stdout logging level is INFO.\n"
          ]
        },
        {
          "output_type": "stream",
          "name": "stderr",
          "text": [
            "INFO:py_boost.callbacks.callback:Stdout logging level is INFO.\n"
          ]
        },
        {
          "output_type": "stream",
          "name": "stdout",
          "text": [
            "[18:05:01] GDBT train starts. Max iter 10000, early stopping rounds 300\n"
          ]
        },
        {
          "output_type": "stream",
          "name": "stderr",
          "text": [
            "INFO:py_boost.callbacks.callback:GDBT train starts. Max iter 10000, early stopping rounds 300\n"
          ]
        },
        {
          "output_type": "stream",
          "name": "stdout",
          "text": [
            "[18:05:01] Iter 0; Sample 0, F1_score = 0.0; \n"
          ]
        },
        {
          "output_type": "stream",
          "name": "stderr",
          "text": [
            "INFO:py_boost.callbacks.callback:Iter 0; Sample 0, F1_score = 0.0; \n"
          ]
        },
        {
          "output_type": "stream",
          "name": "stdout",
          "text": [
            "[18:05:21] Iter 300; Sample 0, F1_score = 0.20154364022686289; \n"
          ]
        },
        {
          "output_type": "stream",
          "name": "stderr",
          "text": [
            "INFO:py_boost.callbacks.callback:Iter 300; Sample 0, F1_score = 0.20154364022686289; \n"
          ]
        },
        {
          "output_type": "stream",
          "name": "stdout",
          "text": [
            "[18:05:40] Iter 600; Sample 0, F1_score = 0.2309401242535162; \n"
          ]
        },
        {
          "output_type": "stream",
          "name": "stderr",
          "text": [
            "INFO:py_boost.callbacks.callback:Iter 600; Sample 0, F1_score = 0.2309401242535162; \n"
          ]
        },
        {
          "output_type": "stream",
          "name": "stdout",
          "text": [
            "[18:06:00] Iter 900; Sample 0, F1_score = 0.23723811273250123; \n"
          ]
        },
        {
          "output_type": "stream",
          "name": "stderr",
          "text": [
            "INFO:py_boost.callbacks.callback:Iter 900; Sample 0, F1_score = 0.23723811273250123; \n"
          ]
        },
        {
          "output_type": "stream",
          "name": "stdout",
          "text": [
            "[18:06:19] Iter 1200; Sample 0, F1_score = 0.2480391945613231; \n"
          ]
        },
        {
          "output_type": "stream",
          "name": "stderr",
          "text": [
            "INFO:py_boost.callbacks.callback:Iter 1200; Sample 0, F1_score = 0.2480391945613231; \n"
          ]
        },
        {
          "output_type": "stream",
          "name": "stdout",
          "text": [
            "[18:06:37] Iter 1500; Sample 0, F1_score = 0.2505565948364109; \n"
          ]
        },
        {
          "output_type": "stream",
          "name": "stderr",
          "text": [
            "INFO:py_boost.callbacks.callback:Iter 1500; Sample 0, F1_score = 0.2505565948364109; \n"
          ]
        },
        {
          "output_type": "stream",
          "name": "stdout",
          "text": [
            "[18:06:56] Iter 1800; Sample 0, F1_score = 0.25609091815911145; \n"
          ]
        },
        {
          "output_type": "stream",
          "name": "stderr",
          "text": [
            "INFO:py_boost.callbacks.callback:Iter 1800; Sample 0, F1_score = 0.25609091815911145; \n"
          ]
        },
        {
          "output_type": "stream",
          "name": "stdout",
          "text": [
            "[18:07:14] Iter 2100; Sample 0, F1_score = 0.2589681436693514; \n"
          ]
        },
        {
          "output_type": "stream",
          "name": "stderr",
          "text": [
            "INFO:py_boost.callbacks.callback:Iter 2100; Sample 0, F1_score = 0.2589681436693514; \n"
          ]
        },
        {
          "output_type": "stream",
          "name": "stdout",
          "text": [
            "[18:07:32] Iter 2400; Sample 0, F1_score = 0.2620373509750958; \n"
          ]
        },
        {
          "output_type": "stream",
          "name": "stderr",
          "text": [
            "INFO:py_boost.callbacks.callback:Iter 2400; Sample 0, F1_score = 0.2620373509750958; \n"
          ]
        },
        {
          "output_type": "stream",
          "name": "stdout",
          "text": [
            "[18:07:50] Iter 2700; Sample 0, F1_score = 0.26408626432057514; \n"
          ]
        },
        {
          "output_type": "stream",
          "name": "stderr",
          "text": [
            "INFO:py_boost.callbacks.callback:Iter 2700; Sample 0, F1_score = 0.26408626432057514; \n"
          ]
        },
        {
          "output_type": "stream",
          "name": "stdout",
          "text": [
            "[18:08:08] Iter 3000; Sample 0, F1_score = 0.26458375936444545; \n"
          ]
        },
        {
          "output_type": "stream",
          "name": "stderr",
          "text": [
            "INFO:py_boost.callbacks.callback:Iter 3000; Sample 0, F1_score = 0.26458375936444545; \n"
          ]
        },
        {
          "output_type": "stream",
          "name": "stdout",
          "text": [
            "[18:08:25] Iter 3300; Sample 0, F1_score = 0.26576043059910925; \n"
          ]
        },
        {
          "output_type": "stream",
          "name": "stderr",
          "text": [
            "INFO:py_boost.callbacks.callback:Iter 3300; Sample 0, F1_score = 0.26576043059910925; \n"
          ]
        },
        {
          "output_type": "stream",
          "name": "stdout",
          "text": [
            "[18:08:42] Iter 3600; Sample 0, F1_score = 0.2674627596330197; \n"
          ]
        },
        {
          "output_type": "stream",
          "name": "stderr",
          "text": [
            "INFO:py_boost.callbacks.callback:Iter 3600; Sample 0, F1_score = 0.2674627596330197; \n"
          ]
        },
        {
          "output_type": "stream",
          "name": "stdout",
          "text": [
            "[18:08:59] Iter 3900; Sample 0, F1_score = 0.26696656127583696; \n"
          ]
        },
        {
          "output_type": "stream",
          "name": "stderr",
          "text": [
            "INFO:py_boost.callbacks.callback:Iter 3900; Sample 0, F1_score = 0.26696656127583696; \n"
          ]
        },
        {
          "output_type": "stream",
          "name": "stdout",
          "text": [
            "[18:09:16] Iter 4200; Sample 0, F1_score = 0.26883661758911526; \n"
          ]
        },
        {
          "output_type": "stream",
          "name": "stderr",
          "text": [
            "INFO:py_boost.callbacks.callback:Iter 4200; Sample 0, F1_score = 0.26883661758911526; \n"
          ]
        },
        {
          "output_type": "stream",
          "name": "stdout",
          "text": [
            "[18:09:33] Iter 4500; Sample 0, F1_score = 0.26975866716938024; \n"
          ]
        },
        {
          "output_type": "stream",
          "name": "stderr",
          "text": [
            "INFO:py_boost.callbacks.callback:Iter 4500; Sample 0, F1_score = 0.26975866716938024; \n"
          ]
        },
        {
          "output_type": "stream",
          "name": "stdout",
          "text": [
            "[18:09:50] Iter 4800; Sample 0, F1_score = 0.2695078170483665; \n"
          ]
        },
        {
          "output_type": "stream",
          "name": "stderr",
          "text": [
            "INFO:py_boost.callbacks.callback:Iter 4800; Sample 0, F1_score = 0.2695078170483665; \n"
          ]
        },
        {
          "output_type": "stream",
          "name": "stdout",
          "text": [
            "[18:09:59] Early stopping at iter 4955, best iter 4655, best_score 0.27137682449632333\n"
          ]
        },
        {
          "output_type": "stream",
          "name": "stderr",
          "text": [
            "INFO:py_boost.callbacks.callback:Early stopping at iter 4955, best iter 4655, best_score 0.27137682449632333\n"
          ]
        },
        {
          "output_type": "stream",
          "name": "stdout",
          "text": [
            "[18:10:09] Stdout logging level is INFO.\n"
          ]
        },
        {
          "output_type": "stream",
          "name": "stderr",
          "text": [
            "INFO:py_boost.callbacks.callback:Stdout logging level is INFO.\n"
          ]
        },
        {
          "output_type": "stream",
          "name": "stdout",
          "text": [
            "[18:10:09] GDBT train starts. Max iter 10000, early stopping rounds 300\n"
          ]
        },
        {
          "output_type": "stream",
          "name": "stderr",
          "text": [
            "INFO:py_boost.callbacks.callback:GDBT train starts. Max iter 10000, early stopping rounds 300\n"
          ]
        },
        {
          "output_type": "stream",
          "name": "stdout",
          "text": [
            "[18:10:09] Iter 0; Sample 0, F1_score = 0.0; \n"
          ]
        },
        {
          "output_type": "stream",
          "name": "stderr",
          "text": [
            "INFO:py_boost.callbacks.callback:Iter 0; Sample 0, F1_score = 0.0; \n"
          ]
        },
        {
          "output_type": "stream",
          "name": "stdout",
          "text": [
            "[18:10:29] Iter 300; Sample 0, F1_score = 0.1416928604903774; \n"
          ]
        },
        {
          "output_type": "stream",
          "name": "stderr",
          "text": [
            "INFO:py_boost.callbacks.callback:Iter 300; Sample 0, F1_score = 0.1416928604903774; \n"
          ]
        },
        {
          "output_type": "stream",
          "name": "stdout",
          "text": [
            "[18:10:49] Iter 600; Sample 0, F1_score = 0.19543553207349462; \n"
          ]
        },
        {
          "output_type": "stream",
          "name": "stderr",
          "text": [
            "INFO:py_boost.callbacks.callback:Iter 600; Sample 0, F1_score = 0.19543553207349462; \n"
          ]
        },
        {
          "output_type": "stream",
          "name": "stdout",
          "text": [
            "[18:11:08] Iter 900; Sample 0, F1_score = 0.22085065798268771; \n"
          ]
        },
        {
          "output_type": "stream",
          "name": "stderr",
          "text": [
            "INFO:py_boost.callbacks.callback:Iter 900; Sample 0, F1_score = 0.22085065798268771; \n"
          ]
        },
        {
          "output_type": "stream",
          "name": "stdout",
          "text": [
            "[18:11:29] Iter 1200; Sample 0, F1_score = 0.22958817122608047; \n"
          ]
        },
        {
          "output_type": "stream",
          "name": "stderr",
          "text": [
            "INFO:py_boost.callbacks.callback:Iter 1200; Sample 0, F1_score = 0.22958817122608047; \n"
          ]
        },
        {
          "output_type": "stream",
          "name": "stdout",
          "text": [
            "[18:11:47] Iter 1500; Sample 0, F1_score = 0.23662056788805094; \n"
          ]
        },
        {
          "output_type": "stream",
          "name": "stderr",
          "text": [
            "INFO:py_boost.callbacks.callback:Iter 1500; Sample 0, F1_score = 0.23662056788805094; \n"
          ]
        },
        {
          "output_type": "stream",
          "name": "stdout",
          "text": [
            "[18:12:06] Iter 1800; Sample 0, F1_score = 0.2441962140137647; \n"
          ]
        },
        {
          "output_type": "stream",
          "name": "stderr",
          "text": [
            "INFO:py_boost.callbacks.callback:Iter 1800; Sample 0, F1_score = 0.2441962140137647; \n"
          ]
        },
        {
          "output_type": "stream",
          "name": "stdout",
          "text": [
            "[18:12:26] Iter 2100; Sample 0, F1_score = 0.24616539650026983; \n"
          ]
        },
        {
          "output_type": "stream",
          "name": "stderr",
          "text": [
            "INFO:py_boost.callbacks.callback:Iter 2100; Sample 0, F1_score = 0.24616539650026983; \n"
          ]
        },
        {
          "output_type": "stream",
          "name": "stdout",
          "text": [
            "[18:12:44] Iter 2400; Sample 0, F1_score = 0.25076685505887825; \n"
          ]
        },
        {
          "output_type": "stream",
          "name": "stderr",
          "text": [
            "INFO:py_boost.callbacks.callback:Iter 2400; Sample 0, F1_score = 0.25076685505887825; \n"
          ]
        },
        {
          "output_type": "stream",
          "name": "stdout",
          "text": [
            "[18:13:04] Iter 2700; Sample 0, F1_score = 0.2520467481503918; \n"
          ]
        },
        {
          "output_type": "stream",
          "name": "stderr",
          "text": [
            "INFO:py_boost.callbacks.callback:Iter 2700; Sample 0, F1_score = 0.2520467481503918; \n"
          ]
        },
        {
          "output_type": "stream",
          "name": "stdout",
          "text": [
            "[18:13:22] Iter 3000; Sample 0, F1_score = 0.25272102083882975; \n"
          ]
        },
        {
          "output_type": "stream",
          "name": "stderr",
          "text": [
            "INFO:py_boost.callbacks.callback:Iter 3000; Sample 0, F1_score = 0.25272102083882975; \n"
          ]
        },
        {
          "output_type": "stream",
          "name": "stdout",
          "text": [
            "[18:13:40] Iter 3300; Sample 0, F1_score = 0.25454685743988686; \n"
          ]
        },
        {
          "output_type": "stream",
          "name": "stderr",
          "text": [
            "INFO:py_boost.callbacks.callback:Iter 3300; Sample 0, F1_score = 0.25454685743988686; \n"
          ]
        },
        {
          "output_type": "stream",
          "name": "stdout",
          "text": [
            "[18:13:59] Iter 3600; Sample 0, F1_score = 0.25796027058307314; \n"
          ]
        },
        {
          "output_type": "stream",
          "name": "stderr",
          "text": [
            "INFO:py_boost.callbacks.callback:Iter 3600; Sample 0, F1_score = 0.25796027058307314; \n"
          ]
        },
        {
          "output_type": "stream",
          "name": "stdout",
          "text": [
            "[18:14:17] Iter 3900; Sample 0, F1_score = 0.25876729747292065; \n"
          ]
        },
        {
          "output_type": "stream",
          "name": "stderr",
          "text": [
            "INFO:py_boost.callbacks.callback:Iter 3900; Sample 0, F1_score = 0.25876729747292065; \n"
          ]
        },
        {
          "output_type": "stream",
          "name": "stdout",
          "text": [
            "[18:14:35] Iter 4200; Sample 0, F1_score = 0.2606884075786637; \n"
          ]
        },
        {
          "output_type": "stream",
          "name": "stderr",
          "text": [
            "INFO:py_boost.callbacks.callback:Iter 4200; Sample 0, F1_score = 0.2606884075786637; \n"
          ]
        },
        {
          "output_type": "stream",
          "name": "stdout",
          "text": [
            "[18:14:53] Iter 4500; Sample 0, F1_score = 0.26136797011107044; \n"
          ]
        },
        {
          "output_type": "stream",
          "name": "stderr",
          "text": [
            "INFO:py_boost.callbacks.callback:Iter 4500; Sample 0, F1_score = 0.26136797011107044; \n"
          ]
        },
        {
          "output_type": "stream",
          "name": "stdout",
          "text": [
            "[18:15:11] Iter 4800; Sample 0, F1_score = 0.26310505687959274; \n"
          ]
        },
        {
          "output_type": "stream",
          "name": "stderr",
          "text": [
            "INFO:py_boost.callbacks.callback:Iter 4800; Sample 0, F1_score = 0.26310505687959274; \n"
          ]
        },
        {
          "output_type": "stream",
          "name": "stdout",
          "text": [
            "[18:15:28] Iter 5100; Sample 0, F1_score = 0.26429591448726897; \n"
          ]
        },
        {
          "output_type": "stream",
          "name": "stderr",
          "text": [
            "INFO:py_boost.callbacks.callback:Iter 5100; Sample 0, F1_score = 0.26429591448726897; \n"
          ]
        },
        {
          "output_type": "stream",
          "name": "stdout",
          "text": [
            "[18:15:46] Iter 5400; Sample 0, F1_score = 0.2649721471398826; \n"
          ]
        },
        {
          "output_type": "stream",
          "name": "stderr",
          "text": [
            "INFO:py_boost.callbacks.callback:Iter 5400; Sample 0, F1_score = 0.2649721471398826; \n"
          ]
        },
        {
          "output_type": "stream",
          "name": "stdout",
          "text": [
            "[18:16:04] Iter 5700; Sample 0, F1_score = 0.2651227792204021; \n"
          ]
        },
        {
          "output_type": "stream",
          "name": "stderr",
          "text": [
            "INFO:py_boost.callbacks.callback:Iter 5700; Sample 0, F1_score = 0.2651227792204021; \n"
          ]
        },
        {
          "output_type": "stream",
          "name": "stdout",
          "text": [
            "[18:16:22] Iter 6000; Sample 0, F1_score = 0.26682919385898946; \n"
          ]
        },
        {
          "output_type": "stream",
          "name": "stderr",
          "text": [
            "INFO:py_boost.callbacks.callback:Iter 6000; Sample 0, F1_score = 0.26682919385898946; \n"
          ]
        },
        {
          "output_type": "stream",
          "name": "stdout",
          "text": [
            "[18:16:40] Iter 6300; Sample 0, F1_score = 0.2668312357975954; \n"
          ]
        },
        {
          "output_type": "stream",
          "name": "stderr",
          "text": [
            "INFO:py_boost.callbacks.callback:Iter 6300; Sample 0, F1_score = 0.2668312357975954; \n"
          ]
        },
        {
          "output_type": "stream",
          "name": "stdout",
          "text": [
            "[18:16:57] Iter 6600; Sample 0, F1_score = 0.2684236971346777; \n"
          ]
        },
        {
          "output_type": "stream",
          "name": "stderr",
          "text": [
            "INFO:py_boost.callbacks.callback:Iter 6600; Sample 0, F1_score = 0.2684236971346777; \n"
          ]
        },
        {
          "output_type": "stream",
          "name": "stdout",
          "text": [
            "[18:17:15] Iter 6900; Sample 0, F1_score = 0.26818190624627597; \n"
          ]
        },
        {
          "output_type": "stream",
          "name": "stderr",
          "text": [
            "INFO:py_boost.callbacks.callback:Iter 6900; Sample 0, F1_score = 0.26818190624627597; \n"
          ]
        },
        {
          "output_type": "stream",
          "name": "stdout",
          "text": [
            "[18:17:15] Early stopping at iter 6916, best iter 6616, best_score 0.2685208339850874\n"
          ]
        },
        {
          "output_type": "stream",
          "name": "stderr",
          "text": [
            "INFO:py_boost.callbacks.callback:Early stopping at iter 6916, best iter 6616, best_score 0.2685208339850874\n"
          ]
        }
      ]
    },
    {
      "cell_type": "code",
      "source": [
        "X_train, X_test, y_train, y_test = train_test_split(\n",
        "    features_temp,\n",
        "    y_bp,\n",
        "    test_size=0.2,\n",
        "    random_state=42\n",
        ")\n",
        "print('Start fitting BP')\n",
        "for lr in lrs:\n",
        "    model_bp = SketchBoost(\n",
        "            loss='multilabel', metric='f1',\n",
        "            ntrees=10000, lr=lr, verbose=300, es=300, lambda_l2=1, gd_steps=1,\n",
        "            subsample=1, colsample=1, min_data_in_leaf=10,\n",
        "            max_bin=256, max_depth=6,\n",
        "        ).fit(X_train, y_train, eval_sets = [{'X': np.array(X_test), 'y': y_test}])\n",
        "    preds_bp = model_bp.predict(np.array(X_test))\n",
        "    f1_score_bp = count_f1_max(np.array(preds_bp), y_test)\n",
        "    lr2f1[lr] = {'BP': f1_score_bp}"
      ],
      "metadata": {
        "colab": {
          "base_uri": "https://localhost:8080/"
        },
        "id": "v0X8wQlPJQwY",
        "outputId": "05a206e2-7ccd-48de-affd-d4ad2b49d2c9"
      },
      "execution_count": null,
      "outputs": [
        {
          "output_type": "stream",
          "name": "stdout",
          "text": [
            "Start fitting BP\n",
            "[18:20:20] Stdout logging level is INFO.\n"
          ]
        },
        {
          "output_type": "stream",
          "name": "stderr",
          "text": [
            "INFO:py_boost.callbacks.callback:Stdout logging level is INFO.\n"
          ]
        },
        {
          "output_type": "stream",
          "name": "stdout",
          "text": [
            "[18:20:20] GDBT train starts. Max iter 10000, early stopping rounds 300\n"
          ]
        },
        {
          "output_type": "stream",
          "name": "stderr",
          "text": [
            "INFO:py_boost.callbacks.callback:GDBT train starts. Max iter 10000, early stopping rounds 300\n"
          ]
        },
        {
          "output_type": "stream",
          "name": "stdout",
          "text": [
            "[18:20:20] Iter 0; Sample 0, F1_score = 0.00743158195440295; \n"
          ]
        },
        {
          "output_type": "stream",
          "name": "stderr",
          "text": [
            "INFO:py_boost.callbacks.callback:Iter 0; Sample 0, F1_score = 0.00743158195440295; \n"
          ]
        },
        {
          "output_type": "stream",
          "name": "stdout",
          "text": [
            "[18:20:40] Iter 300; Sample 0, F1_score = 0.2649158733145428; \n"
          ]
        },
        {
          "output_type": "stream",
          "name": "stderr",
          "text": [
            "INFO:py_boost.callbacks.callback:Iter 300; Sample 0, F1_score = 0.2649158733145428; \n"
          ]
        },
        {
          "output_type": "stream",
          "name": "stdout",
          "text": [
            "[18:21:00] Iter 600; Sample 0, F1_score = 0.27331122775476524; \n"
          ]
        },
        {
          "output_type": "stream",
          "name": "stderr",
          "text": [
            "INFO:py_boost.callbacks.callback:Iter 600; Sample 0, F1_score = 0.27331122775476524; \n"
          ]
        },
        {
          "output_type": "stream",
          "name": "stdout",
          "text": [
            "[18:21:19] Iter 900; Sample 0, F1_score = 0.2784015559169712; \n"
          ]
        },
        {
          "output_type": "stream",
          "name": "stderr",
          "text": [
            "INFO:py_boost.callbacks.callback:Iter 900; Sample 0, F1_score = 0.2784015559169712; \n"
          ]
        },
        {
          "output_type": "stream",
          "name": "stdout",
          "text": [
            "[18:21:38] Iter 1200; Sample 0, F1_score = 0.28194051673589365; \n"
          ]
        },
        {
          "output_type": "stream",
          "name": "stderr",
          "text": [
            "INFO:py_boost.callbacks.callback:Iter 1200; Sample 0, F1_score = 0.28194051673589365; \n"
          ]
        },
        {
          "output_type": "stream",
          "name": "stdout",
          "text": [
            "[18:21:56] Iter 1500; Sample 0, F1_score = 0.2829024951430323; \n"
          ]
        },
        {
          "output_type": "stream",
          "name": "stderr",
          "text": [
            "INFO:py_boost.callbacks.callback:Iter 1500; Sample 0, F1_score = 0.2829024951430323; \n"
          ]
        },
        {
          "output_type": "stream",
          "name": "stdout",
          "text": [
            "[18:22:13] Iter 1800; Sample 0, F1_score = 0.2852337569499654; \n"
          ]
        },
        {
          "output_type": "stream",
          "name": "stderr",
          "text": [
            "INFO:py_boost.callbacks.callback:Iter 1800; Sample 0, F1_score = 0.2852337569499654; \n"
          ]
        },
        {
          "output_type": "stream",
          "name": "stdout",
          "text": [
            "[18:22:31] Iter 2100; Sample 0, F1_score = 0.28679990406148687; \n"
          ]
        },
        {
          "output_type": "stream",
          "name": "stderr",
          "text": [
            "INFO:py_boost.callbacks.callback:Iter 2100; Sample 0, F1_score = 0.28679990406148687; \n"
          ]
        },
        {
          "output_type": "stream",
          "name": "stdout",
          "text": [
            "[18:22:49] Iter 2400; Sample 0, F1_score = 0.28729975530222746; \n"
          ]
        },
        {
          "output_type": "stream",
          "name": "stderr",
          "text": [
            "INFO:py_boost.callbacks.callback:Iter 2400; Sample 0, F1_score = 0.28729975530222746; \n"
          ]
        },
        {
          "output_type": "stream",
          "name": "stdout",
          "text": [
            "[18:23:06] Iter 2700; Sample 0, F1_score = 0.28731610059278945; \n"
          ]
        },
        {
          "output_type": "stream",
          "name": "stderr",
          "text": [
            "INFO:py_boost.callbacks.callback:Iter 2700; Sample 0, F1_score = 0.28731610059278945; \n"
          ]
        },
        {
          "output_type": "stream",
          "name": "stdout",
          "text": [
            "[18:23:18] Early stopping at iter 2900, best iter 2600, best_score 0.28783267376963\n"
          ]
        },
        {
          "output_type": "stream",
          "name": "stderr",
          "text": [
            "INFO:py_boost.callbacks.callback:Early stopping at iter 2900, best iter 2600, best_score 0.28783267376963\n"
          ]
        },
        {
          "output_type": "stream",
          "name": "stdout",
          "text": [
            "[18:23:26] Stdout logging level is INFO.\n"
          ]
        },
        {
          "output_type": "stream",
          "name": "stderr",
          "text": [
            "INFO:py_boost.callbacks.callback:Stdout logging level is INFO.\n"
          ]
        },
        {
          "output_type": "stream",
          "name": "stdout",
          "text": [
            "[18:23:26] GDBT train starts. Max iter 10000, early stopping rounds 300\n"
          ]
        },
        {
          "output_type": "stream",
          "name": "stderr",
          "text": [
            "INFO:py_boost.callbacks.callback:GDBT train starts. Max iter 10000, early stopping rounds 300\n"
          ]
        },
        {
          "output_type": "stream",
          "name": "stdout",
          "text": [
            "[18:23:27] Iter 0; Sample 0, F1_score = 0.0; \n"
          ]
        },
        {
          "output_type": "stream",
          "name": "stderr",
          "text": [
            "INFO:py_boost.callbacks.callback:Iter 0; Sample 0, F1_score = 0.0; \n"
          ]
        },
        {
          "output_type": "stream",
          "name": "stdout",
          "text": [
            "[18:23:47] Iter 300; Sample 0, F1_score = 0.18237183989241407; \n"
          ]
        },
        {
          "output_type": "stream",
          "name": "stderr",
          "text": [
            "INFO:py_boost.callbacks.callback:Iter 300; Sample 0, F1_score = 0.18237183989241407; \n"
          ]
        },
        {
          "output_type": "stream",
          "name": "stdout",
          "text": [
            "[18:24:08] Iter 600; Sample 0, F1_score = 0.2237775825959024; \n"
          ]
        },
        {
          "output_type": "stream",
          "name": "stderr",
          "text": [
            "INFO:py_boost.callbacks.callback:Iter 600; Sample 0, F1_score = 0.2237775825959024; \n"
          ]
        },
        {
          "output_type": "stream",
          "name": "stdout",
          "text": [
            "[18:24:29] Iter 900; Sample 0, F1_score = 0.23840470276855055; \n"
          ]
        },
        {
          "output_type": "stream",
          "name": "stderr",
          "text": [
            "INFO:py_boost.callbacks.callback:Iter 900; Sample 0, F1_score = 0.23840470276855055; \n"
          ]
        },
        {
          "output_type": "stream",
          "name": "stdout",
          "text": [
            "[18:24:49] Iter 1200; Sample 0, F1_score = 0.24889067794367387; \n"
          ]
        },
        {
          "output_type": "stream",
          "name": "stderr",
          "text": [
            "INFO:py_boost.callbacks.callback:Iter 1200; Sample 0, F1_score = 0.24889067794367387; \n"
          ]
        },
        {
          "output_type": "stream",
          "name": "stdout",
          "text": [
            "[18:25:10] Iter 1500; Sample 0, F1_score = 0.2543520579698721; \n"
          ]
        },
        {
          "output_type": "stream",
          "name": "stderr",
          "text": [
            "INFO:py_boost.callbacks.callback:Iter 1500; Sample 0, F1_score = 0.2543520579698721; \n"
          ]
        },
        {
          "output_type": "stream",
          "name": "stdout",
          "text": [
            "[18:25:30] Iter 1800; Sample 0, F1_score = 0.25737664324179865; \n"
          ]
        },
        {
          "output_type": "stream",
          "name": "stderr",
          "text": [
            "INFO:py_boost.callbacks.callback:Iter 1800; Sample 0, F1_score = 0.25737664324179865; \n"
          ]
        },
        {
          "output_type": "stream",
          "name": "stdout",
          "text": [
            "[18:25:50] Iter 2100; Sample 0, F1_score = 0.2594560055313241; \n"
          ]
        },
        {
          "output_type": "stream",
          "name": "stderr",
          "text": [
            "INFO:py_boost.callbacks.callback:Iter 2100; Sample 0, F1_score = 0.2594560055313241; \n"
          ]
        },
        {
          "output_type": "stream",
          "name": "stdout",
          "text": [
            "[18:26:09] Iter 2400; Sample 0, F1_score = 0.2640439168541222; \n"
          ]
        },
        {
          "output_type": "stream",
          "name": "stderr",
          "text": [
            "INFO:py_boost.callbacks.callback:Iter 2400; Sample 0, F1_score = 0.2640439168541222; \n"
          ]
        },
        {
          "output_type": "stream",
          "name": "stdout",
          "text": [
            "[18:26:28] Iter 2700; Sample 0, F1_score = 0.2649861208800203; \n"
          ]
        },
        {
          "output_type": "stream",
          "name": "stderr",
          "text": [
            "INFO:py_boost.callbacks.callback:Iter 2700; Sample 0, F1_score = 0.2649861208800203; \n"
          ]
        },
        {
          "output_type": "stream",
          "name": "stdout",
          "text": [
            "[18:26:47] Iter 3000; Sample 0, F1_score = 0.26632794400827914; \n"
          ]
        },
        {
          "output_type": "stream",
          "name": "stderr",
          "text": [
            "INFO:py_boost.callbacks.callback:Iter 3000; Sample 0, F1_score = 0.26632794400827914; \n"
          ]
        },
        {
          "output_type": "stream",
          "name": "stdout",
          "text": [
            "[18:27:06] Iter 3300; Sample 0, F1_score = 0.269460234758092; \n"
          ]
        },
        {
          "output_type": "stream",
          "name": "stderr",
          "text": [
            "INFO:py_boost.callbacks.callback:Iter 3300; Sample 0, F1_score = 0.269460234758092; \n"
          ]
        },
        {
          "output_type": "stream",
          "name": "stdout",
          "text": [
            "[18:27:25] Iter 3600; Sample 0, F1_score = 0.270743953642209; \n"
          ]
        },
        {
          "output_type": "stream",
          "name": "stderr",
          "text": [
            "INFO:py_boost.callbacks.callback:Iter 3600; Sample 0, F1_score = 0.270743953642209; \n"
          ]
        },
        {
          "output_type": "stream",
          "name": "stdout",
          "text": [
            "[18:27:44] Iter 3900; Sample 0, F1_score = 0.27192906955605656; \n"
          ]
        },
        {
          "output_type": "stream",
          "name": "stderr",
          "text": [
            "INFO:py_boost.callbacks.callback:Iter 3900; Sample 0, F1_score = 0.27192906955605656; \n"
          ]
        },
        {
          "output_type": "stream",
          "name": "stdout",
          "text": [
            "[18:28:02] Iter 4200; Sample 0, F1_score = 0.27299805479520556; \n"
          ]
        },
        {
          "output_type": "stream",
          "name": "stderr",
          "text": [
            "INFO:py_boost.callbacks.callback:Iter 4200; Sample 0, F1_score = 0.27299805479520556; \n"
          ]
        },
        {
          "output_type": "stream",
          "name": "stdout",
          "text": [
            "[18:28:21] Iter 4500; Sample 0, F1_score = 0.27395927713356627; \n"
          ]
        },
        {
          "output_type": "stream",
          "name": "stderr",
          "text": [
            "INFO:py_boost.callbacks.callback:Iter 4500; Sample 0, F1_score = 0.27395927713356627; \n"
          ]
        },
        {
          "output_type": "stream",
          "name": "stdout",
          "text": [
            "[18:28:40] Iter 4800; Sample 0, F1_score = 0.2744589915519223; \n"
          ]
        },
        {
          "output_type": "stream",
          "name": "stderr",
          "text": [
            "INFO:py_boost.callbacks.callback:Iter 4800; Sample 0, F1_score = 0.2744589915519223; \n"
          ]
        },
        {
          "output_type": "stream",
          "name": "stdout",
          "text": [
            "[18:28:58] Iter 5100; Sample 0, F1_score = 0.2755589100087574; \n"
          ]
        },
        {
          "output_type": "stream",
          "name": "stderr",
          "text": [
            "INFO:py_boost.callbacks.callback:Iter 5100; Sample 0, F1_score = 0.2755589100087574; \n"
          ]
        },
        {
          "output_type": "stream",
          "name": "stdout",
          "text": [
            "[18:29:16] Iter 5400; Sample 0, F1_score = 0.27648611674716894; \n"
          ]
        },
        {
          "output_type": "stream",
          "name": "stderr",
          "text": [
            "INFO:py_boost.callbacks.callback:Iter 5400; Sample 0, F1_score = 0.27648611674716894; \n"
          ]
        },
        {
          "output_type": "stream",
          "name": "stdout",
          "text": [
            "[18:29:35] Iter 5700; Sample 0, F1_score = 0.27690579477673954; \n"
          ]
        },
        {
          "output_type": "stream",
          "name": "stderr",
          "text": [
            "INFO:py_boost.callbacks.callback:Iter 5700; Sample 0, F1_score = 0.27690579477673954; \n"
          ]
        },
        {
          "output_type": "stream",
          "name": "stdout",
          "text": [
            "[18:29:53] Iter 6000; Sample 0, F1_score = 0.27795103788211634; \n"
          ]
        },
        {
          "output_type": "stream",
          "name": "stderr",
          "text": [
            "INFO:py_boost.callbacks.callback:Iter 6000; Sample 0, F1_score = 0.27795103788211634; \n"
          ]
        },
        {
          "output_type": "stream",
          "name": "stdout",
          "text": [
            "[18:30:12] Iter 6300; Sample 0, F1_score = 0.27820761407548245; \n"
          ]
        },
        {
          "output_type": "stream",
          "name": "stderr",
          "text": [
            "INFO:py_boost.callbacks.callback:Iter 6300; Sample 0, F1_score = 0.27820761407548245; \n"
          ]
        },
        {
          "output_type": "stream",
          "name": "stdout",
          "text": [
            "[18:30:30] Iter 6600; Sample 0, F1_score = 0.2790206844402862; \n"
          ]
        },
        {
          "output_type": "stream",
          "name": "stderr",
          "text": [
            "INFO:py_boost.callbacks.callback:Iter 6600; Sample 0, F1_score = 0.2790206844402862; \n"
          ]
        },
        {
          "output_type": "stream",
          "name": "stdout",
          "text": [
            "[18:30:48] Iter 6900; Sample 0, F1_score = 0.27960279698338025; \n"
          ]
        },
        {
          "output_type": "stream",
          "name": "stderr",
          "text": [
            "INFO:py_boost.callbacks.callback:Iter 6900; Sample 0, F1_score = 0.27960279698338025; \n"
          ]
        },
        {
          "output_type": "stream",
          "name": "stdout",
          "text": [
            "[18:31:07] Iter 7200; Sample 0, F1_score = 0.2802677791683416; \n"
          ]
        },
        {
          "output_type": "stream",
          "name": "stderr",
          "text": [
            "INFO:py_boost.callbacks.callback:Iter 7200; Sample 0, F1_score = 0.2802677791683416; \n"
          ]
        },
        {
          "output_type": "stream",
          "name": "stdout",
          "text": [
            "[18:31:24] Iter 7500; Sample 0, F1_score = 0.28039152098073655; \n"
          ]
        },
        {
          "output_type": "stream",
          "name": "stderr",
          "text": [
            "INFO:py_boost.callbacks.callback:Iter 7500; Sample 0, F1_score = 0.28039152098073655; \n"
          ]
        },
        {
          "output_type": "stream",
          "name": "stdout",
          "text": [
            "[18:31:42] Iter 7800; Sample 0, F1_score = 0.28123035123483964; \n"
          ]
        },
        {
          "output_type": "stream",
          "name": "stderr",
          "text": [
            "INFO:py_boost.callbacks.callback:Iter 7800; Sample 0, F1_score = 0.28123035123483964; \n"
          ]
        },
        {
          "output_type": "stream",
          "name": "stdout",
          "text": [
            "[18:31:50] Early stopping at iter 7929, best iter 7629, best_score 0.2816218332596702\n"
          ]
        },
        {
          "output_type": "stream",
          "name": "stderr",
          "text": [
            "INFO:py_boost.callbacks.callback:Early stopping at iter 7929, best iter 7629, best_score 0.2816218332596702\n"
          ]
        },
        {
          "output_type": "stream",
          "name": "stdout",
          "text": [
            "[18:32:03] Stdout logging level is INFO.\n"
          ]
        },
        {
          "output_type": "stream",
          "name": "stderr",
          "text": [
            "INFO:py_boost.callbacks.callback:Stdout logging level is INFO.\n"
          ]
        },
        {
          "output_type": "stream",
          "name": "stdout",
          "text": [
            "[18:32:03] GDBT train starts. Max iter 10000, early stopping rounds 300\n"
          ]
        },
        {
          "output_type": "stream",
          "name": "stderr",
          "text": [
            "INFO:py_boost.callbacks.callback:GDBT train starts. Max iter 10000, early stopping rounds 300\n"
          ]
        },
        {
          "output_type": "stream",
          "name": "stdout",
          "text": [
            "[18:32:03] Iter 0; Sample 0, F1_score = 0.0; \n"
          ]
        },
        {
          "output_type": "stream",
          "name": "stderr",
          "text": [
            "INFO:py_boost.callbacks.callback:Iter 0; Sample 0, F1_score = 0.0; \n"
          ]
        },
        {
          "output_type": "stream",
          "name": "stdout",
          "text": [
            "[18:32:24] Iter 300; Sample 0, F1_score = 0.10463307217868262; \n"
          ]
        },
        {
          "output_type": "stream",
          "name": "stderr",
          "text": [
            "INFO:py_boost.callbacks.callback:Iter 300; Sample 0, F1_score = 0.10463307217868262; \n"
          ]
        },
        {
          "output_type": "stream",
          "name": "stdout",
          "text": [
            "[18:32:45] Iter 600; Sample 0, F1_score = 0.17699194055911163; \n"
          ]
        },
        {
          "output_type": "stream",
          "name": "stderr",
          "text": [
            "INFO:py_boost.callbacks.callback:Iter 600; Sample 0, F1_score = 0.17699194055911163; \n"
          ]
        },
        {
          "output_type": "stream",
          "name": "stdout",
          "text": [
            "[18:33:06] Iter 900; Sample 0, F1_score = 0.20666838096596987; \n"
          ]
        },
        {
          "output_type": "stream",
          "name": "stderr",
          "text": [
            "INFO:py_boost.callbacks.callback:Iter 900; Sample 0, F1_score = 0.20666838096596987; \n"
          ]
        },
        {
          "output_type": "stream",
          "name": "stdout",
          "text": [
            "[18:33:26] Iter 1200; Sample 0, F1_score = 0.2204444075679299; \n"
          ]
        },
        {
          "output_type": "stream",
          "name": "stderr",
          "text": [
            "INFO:py_boost.callbacks.callback:Iter 1200; Sample 0, F1_score = 0.2204444075679299; \n"
          ]
        },
        {
          "output_type": "stream",
          "name": "stdout",
          "text": [
            "[18:33:47] Iter 1500; Sample 0, F1_score = 0.22994356800224194; \n"
          ]
        },
        {
          "output_type": "stream",
          "name": "stderr",
          "text": [
            "INFO:py_boost.callbacks.callback:Iter 1500; Sample 0, F1_score = 0.22994356800224194; \n"
          ]
        },
        {
          "output_type": "stream",
          "name": "stdout",
          "text": [
            "[18:34:08] Iter 1800; Sample 0, F1_score = 0.23625896685947917; \n"
          ]
        },
        {
          "output_type": "stream",
          "name": "stderr",
          "text": [
            "INFO:py_boost.callbacks.callback:Iter 1800; Sample 0, F1_score = 0.23625896685947917; \n"
          ]
        },
        {
          "output_type": "stream",
          "name": "stdout",
          "text": [
            "[18:34:28] Iter 2100; Sample 0, F1_score = 0.24042931593109285; \n"
          ]
        },
        {
          "output_type": "stream",
          "name": "stderr",
          "text": [
            "INFO:py_boost.callbacks.callback:Iter 2100; Sample 0, F1_score = 0.24042931593109285; \n"
          ]
        },
        {
          "output_type": "stream",
          "name": "stdout",
          "text": [
            "[18:34:48] Iter 2400; Sample 0, F1_score = 0.24482678099398308; \n"
          ]
        },
        {
          "output_type": "stream",
          "name": "stderr",
          "text": [
            "INFO:py_boost.callbacks.callback:Iter 2400; Sample 0, F1_score = 0.24482678099398308; \n"
          ]
        },
        {
          "output_type": "stream",
          "name": "stdout",
          "text": [
            "[18:35:08] Iter 2700; Sample 0, F1_score = 0.24814593596066953; \n"
          ]
        },
        {
          "output_type": "stream",
          "name": "stderr",
          "text": [
            "INFO:py_boost.callbacks.callback:Iter 2700; Sample 0, F1_score = 0.24814593596066953; \n"
          ]
        },
        {
          "output_type": "stream",
          "name": "stdout",
          "text": [
            "[18:35:28] Iter 3000; Sample 0, F1_score = 0.24981020212895544; \n"
          ]
        },
        {
          "output_type": "stream",
          "name": "stderr",
          "text": [
            "INFO:py_boost.callbacks.callback:Iter 3000; Sample 0, F1_score = 0.24981020212895544; \n"
          ]
        },
        {
          "output_type": "stream",
          "name": "stdout",
          "text": [
            "[18:35:48] Iter 3300; Sample 0, F1_score = 0.2520806834665835; \n"
          ]
        },
        {
          "output_type": "stream",
          "name": "stderr",
          "text": [
            "INFO:py_boost.callbacks.callback:Iter 3300; Sample 0, F1_score = 0.2520806834665835; \n"
          ]
        },
        {
          "output_type": "stream",
          "name": "stdout",
          "text": [
            "[18:36:07] Iter 3600; Sample 0, F1_score = 0.2546309244072127; \n"
          ]
        },
        {
          "output_type": "stream",
          "name": "stderr",
          "text": [
            "INFO:py_boost.callbacks.callback:Iter 3600; Sample 0, F1_score = 0.2546309244072127; \n"
          ]
        },
        {
          "output_type": "stream",
          "name": "stdout",
          "text": [
            "[18:36:27] Iter 3900; Sample 0, F1_score = 0.256176470070161; \n"
          ]
        },
        {
          "output_type": "stream",
          "name": "stderr",
          "text": [
            "INFO:py_boost.callbacks.callback:Iter 3900; Sample 0, F1_score = 0.256176470070161; \n"
          ]
        },
        {
          "output_type": "stream",
          "name": "stdout",
          "text": [
            "[18:36:46] Iter 4200; Sample 0, F1_score = 0.25762193322258015; \n"
          ]
        },
        {
          "output_type": "stream",
          "name": "stderr",
          "text": [
            "INFO:py_boost.callbacks.callback:Iter 4200; Sample 0, F1_score = 0.25762193322258015; \n"
          ]
        },
        {
          "output_type": "stream",
          "name": "stdout",
          "text": [
            "[18:37:06] Iter 4500; Sample 0, F1_score = 0.2588870501915011; \n"
          ]
        },
        {
          "output_type": "stream",
          "name": "stderr",
          "text": [
            "INFO:py_boost.callbacks.callback:Iter 4500; Sample 0, F1_score = 0.2588870501915011; \n"
          ]
        },
        {
          "output_type": "stream",
          "name": "stdout",
          "text": [
            "[18:37:25] Iter 4800; Sample 0, F1_score = 0.2600902610307356; \n"
          ]
        },
        {
          "output_type": "stream",
          "name": "stderr",
          "text": [
            "INFO:py_boost.callbacks.callback:Iter 4800; Sample 0, F1_score = 0.2600902610307356; \n"
          ]
        },
        {
          "output_type": "stream",
          "name": "stdout",
          "text": [
            "[18:37:44] Iter 5100; Sample 0, F1_score = 0.26120832707265035; \n"
          ]
        },
        {
          "output_type": "stream",
          "name": "stderr",
          "text": [
            "INFO:py_boost.callbacks.callback:Iter 5100; Sample 0, F1_score = 0.26120832707265035; \n"
          ]
        },
        {
          "output_type": "stream",
          "name": "stdout",
          "text": [
            "[18:38:03] Iter 5400; Sample 0, F1_score = 0.26264103403244393; \n"
          ]
        },
        {
          "output_type": "stream",
          "name": "stderr",
          "text": [
            "INFO:py_boost.callbacks.callback:Iter 5400; Sample 0, F1_score = 0.26264103403244393; \n"
          ]
        },
        {
          "output_type": "stream",
          "name": "stdout",
          "text": [
            "[18:38:23] Iter 5700; Sample 0, F1_score = 0.26366831588369805; \n"
          ]
        },
        {
          "output_type": "stream",
          "name": "stderr",
          "text": [
            "INFO:py_boost.callbacks.callback:Iter 5700; Sample 0, F1_score = 0.26366831588369805; \n"
          ]
        },
        {
          "output_type": "stream",
          "name": "stdout",
          "text": [
            "[18:38:42] Iter 6000; Sample 0, F1_score = 0.2640696434543171; \n"
          ]
        },
        {
          "output_type": "stream",
          "name": "stderr",
          "text": [
            "INFO:py_boost.callbacks.callback:Iter 6000; Sample 0, F1_score = 0.2640696434543171; \n"
          ]
        },
        {
          "output_type": "stream",
          "name": "stdout",
          "text": [
            "[18:39:01] Iter 6300; Sample 0, F1_score = 0.26509628565388965; \n"
          ]
        },
        {
          "output_type": "stream",
          "name": "stderr",
          "text": [
            "INFO:py_boost.callbacks.callback:Iter 6300; Sample 0, F1_score = 0.26509628565388965; \n"
          ]
        },
        {
          "output_type": "stream",
          "name": "stdout",
          "text": [
            "[18:39:20] Iter 6600; Sample 0, F1_score = 0.26590487601817486; \n"
          ]
        },
        {
          "output_type": "stream",
          "name": "stderr",
          "text": [
            "INFO:py_boost.callbacks.callback:Iter 6600; Sample 0, F1_score = 0.26590487601817486; \n"
          ]
        },
        {
          "output_type": "stream",
          "name": "stdout",
          "text": [
            "[18:39:39] Iter 6900; Sample 0, F1_score = 0.26632840457927404; \n"
          ]
        },
        {
          "output_type": "stream",
          "name": "stderr",
          "text": [
            "INFO:py_boost.callbacks.callback:Iter 6900; Sample 0, F1_score = 0.26632840457927404; \n"
          ]
        },
        {
          "output_type": "stream",
          "name": "stdout",
          "text": [
            "[18:39:58] Iter 7200; Sample 0, F1_score = 0.26743312458375906; \n"
          ]
        },
        {
          "output_type": "stream",
          "name": "stderr",
          "text": [
            "INFO:py_boost.callbacks.callback:Iter 7200; Sample 0, F1_score = 0.26743312458375906; \n"
          ]
        },
        {
          "output_type": "stream",
          "name": "stdout",
          "text": [
            "[18:40:16] Iter 7500; Sample 0, F1_score = 0.2679893075924275; \n"
          ]
        },
        {
          "output_type": "stream",
          "name": "stderr",
          "text": [
            "INFO:py_boost.callbacks.callback:Iter 7500; Sample 0, F1_score = 0.2679893075924275; \n"
          ]
        },
        {
          "output_type": "stream",
          "name": "stdout",
          "text": [
            "[18:40:36] Iter 7800; Sample 0, F1_score = 0.2683248840274692; \n"
          ]
        },
        {
          "output_type": "stream",
          "name": "stderr",
          "text": [
            "INFO:py_boost.callbacks.callback:Iter 7800; Sample 0, F1_score = 0.2683248840274692; \n"
          ]
        },
        {
          "output_type": "stream",
          "name": "stdout",
          "text": [
            "[18:40:54] Iter 8100; Sample 0, F1_score = 0.2692088303121515; \n"
          ]
        },
        {
          "output_type": "stream",
          "name": "stderr",
          "text": [
            "INFO:py_boost.callbacks.callback:Iter 8100; Sample 0, F1_score = 0.2692088303121515; \n"
          ]
        },
        {
          "output_type": "stream",
          "name": "stdout",
          "text": [
            "[18:41:13] Iter 8400; Sample 0, F1_score = 0.2695772109705509; \n"
          ]
        },
        {
          "output_type": "stream",
          "name": "stderr",
          "text": [
            "INFO:py_boost.callbacks.callback:Iter 8400; Sample 0, F1_score = 0.2695772109705509; \n"
          ]
        },
        {
          "output_type": "stream",
          "name": "stdout",
          "text": [
            "[18:41:32] Iter 8700; Sample 0, F1_score = 0.26990159487998827; \n"
          ]
        },
        {
          "output_type": "stream",
          "name": "stderr",
          "text": [
            "INFO:py_boost.callbacks.callback:Iter 8700; Sample 0, F1_score = 0.26990159487998827; \n"
          ]
        },
        {
          "output_type": "stream",
          "name": "stdout",
          "text": [
            "[18:41:50] Iter 9000; Sample 0, F1_score = 0.2702934581893952; \n"
          ]
        },
        {
          "output_type": "stream",
          "name": "stderr",
          "text": [
            "INFO:py_boost.callbacks.callback:Iter 9000; Sample 0, F1_score = 0.2702934581893952; \n"
          ]
        },
        {
          "output_type": "stream",
          "name": "stdout",
          "text": [
            "[18:42:09] Iter 9300; Sample 0, F1_score = 0.27049938010795566; \n"
          ]
        },
        {
          "output_type": "stream",
          "name": "stderr",
          "text": [
            "INFO:py_boost.callbacks.callback:Iter 9300; Sample 0, F1_score = 0.27049938010795566; \n"
          ]
        },
        {
          "output_type": "stream",
          "name": "stdout",
          "text": [
            "[18:42:28] Iter 9600; Sample 0, F1_score = 0.27087937638127707; \n"
          ]
        },
        {
          "output_type": "stream",
          "name": "stderr",
          "text": [
            "INFO:py_boost.callbacks.callback:Iter 9600; Sample 0, F1_score = 0.27087937638127707; \n"
          ]
        },
        {
          "output_type": "stream",
          "name": "stdout",
          "text": [
            "[18:42:47] Iter 9900; Sample 0, F1_score = 0.2712336854511099; \n"
          ]
        },
        {
          "output_type": "stream",
          "name": "stderr",
          "text": [
            "INFO:py_boost.callbacks.callback:Iter 9900; Sample 0, F1_score = 0.2712336854511099; \n"
          ]
        },
        {
          "output_type": "stream",
          "name": "stdout",
          "text": [
            "[18:42:53] Iter 9999; Sample 0, F1_score = 0.27129080649619; \n"
          ]
        },
        {
          "output_type": "stream",
          "name": "stderr",
          "text": [
            "INFO:py_boost.callbacks.callback:Iter 9999; Sample 0, F1_score = 0.27129080649619; \n"
          ]
        }
      ]
    },
    {
      "cell_type": "code",
      "source": [
        "## reducing dimension\n",
        "features_temp_temp = np.concatenate((features_test, features_val), axis=0)\n",
        "quantiles = np.linspace(0, 1, 100)\n",
        "features_temp_q = np.quantile(features_temp_temp, quantiles, axis=1).reshape(-1, 100*7)"
      ],
      "metadata": {
        "id": "aU0AgblRNnHM"
      },
      "execution_count": null,
      "outputs": []
    },
    {
      "cell_type": "code",
      "source": [
        "np.shape(features_temp_q)"
      ],
      "metadata": {
        "colab": {
          "base_uri": "https://localhost:8080/"
        },
        "id": "5Fzb-CClfykf",
        "outputId": "ca9cbb86-447a-45ab-db19-d22f5a3fa440"
      },
      "execution_count": null,
      "outputs": [
        {
          "output_type": "execute_result",
          "data": {
            "text/plain": [
              "(6254, 700)"
            ]
          },
          "metadata": {},
          "execution_count": 54
        }
      ]
    },
    {
      "cell_type": "code",
      "source": [
        "X_train, X_test, y_train, y_test = train_test_split(\n",
        "    features_temp_q,\n",
        "    y_mf,\n",
        "    test_size=0.2,\n",
        "    random_state=42\n",
        ")\n",
        "print('Start fitting MF')\n",
        "for lr in lrs:\n",
        "    model_mf = SketchBoost(\n",
        "            loss='multilabel', metric='f1',\n",
        "            ntrees=10000, lr=lr, verbose=300, es=300, lambda_l2=1, gd_steps=1,\n",
        "            subsample=1, colsample=1, min_data_in_leaf=10,\n",
        "            max_bin=256, max_depth=6,\n",
        "        ).fit(X_train, y_train, eval_sets = [{'X': np.array(X_test), 'y': y_test}])\n",
        "    preds_mf = model_mf.predict(np.array(X_test))\n",
        "    f1_score_mf = count_f1_max(np.array(preds_mf), y_test)\n",
        "    lr2f1[lr] = {'MF': f1_score_mf}"
      ],
      "metadata": {
        "colab": {
          "base_uri": "https://localhost:8080/"
        },
        "id": "9AXLGYDUi-cc",
        "outputId": "715596fd-2997-46b1-8bb2-8cb6dbcd7dfd"
      },
      "execution_count": null,
      "outputs": [
        {
          "output_type": "stream",
          "name": "stdout",
          "text": [
            "Start fitting MF\n",
            "[19:14:29] Stdout logging level is INFO.\n"
          ]
        },
        {
          "output_type": "stream",
          "name": "stderr",
          "text": [
            "INFO:py_boost.callbacks.callback:Stdout logging level is INFO.\n"
          ]
        },
        {
          "output_type": "stream",
          "name": "stdout",
          "text": [
            "[19:14:29] GDBT train starts. Max iter 10000, early stopping rounds 300\n"
          ]
        },
        {
          "output_type": "stream",
          "name": "stderr",
          "text": [
            "INFO:py_boost.callbacks.callback:GDBT train starts. Max iter 10000, early stopping rounds 300\n"
          ]
        },
        {
          "output_type": "stream",
          "name": "stdout",
          "text": [
            "[19:14:29] Iter 0; Sample 0, F1_score = 0.0; \n"
          ]
        },
        {
          "output_type": "stream",
          "name": "stderr",
          "text": [
            "INFO:py_boost.callbacks.callback:Iter 0; Sample 0, F1_score = 0.0; \n"
          ]
        },
        {
          "output_type": "stream",
          "name": "stdout",
          "text": [
            "[19:14:38] Iter 300; Sample 0, F1_score = 0.0012119050621593043; \n"
          ]
        },
        {
          "output_type": "stream",
          "name": "stderr",
          "text": [
            "INFO:py_boost.callbacks.callback:Iter 300; Sample 0, F1_score = 0.0012119050621593043; \n"
          ]
        },
        {
          "output_type": "stream",
          "name": "stdout",
          "text": [
            "[19:14:46] Early stopping at iter 583, best iter 283, best_score 0.0014810221396456189\n"
          ]
        },
        {
          "output_type": "stream",
          "name": "stderr",
          "text": [
            "INFO:py_boost.callbacks.callback:Early stopping at iter 583, best iter 283, best_score 0.0014810221396456189\n"
          ]
        },
        {
          "output_type": "stream",
          "name": "stdout",
          "text": [
            "[19:14:47] Stdout logging level is INFO.\n"
          ]
        },
        {
          "output_type": "stream",
          "name": "stderr",
          "text": [
            "INFO:py_boost.callbacks.callback:Stdout logging level is INFO.\n"
          ]
        },
        {
          "output_type": "stream",
          "name": "stdout",
          "text": [
            "[19:14:47] GDBT train starts. Max iter 10000, early stopping rounds 300\n"
          ]
        },
        {
          "output_type": "stream",
          "name": "stderr",
          "text": [
            "INFO:py_boost.callbacks.callback:GDBT train starts. Max iter 10000, early stopping rounds 300\n"
          ]
        },
        {
          "output_type": "stream",
          "name": "stdout",
          "text": [
            "[19:14:47] Iter 0; Sample 0, F1_score = 0.0; \n"
          ]
        },
        {
          "output_type": "stream",
          "name": "stderr",
          "text": [
            "INFO:py_boost.callbacks.callback:Iter 0; Sample 0, F1_score = 0.0; \n"
          ]
        },
        {
          "output_type": "stream",
          "name": "stdout",
          "text": [
            "[19:14:55] Iter 300; Sample 0, F1_score = 0.0; \n"
          ]
        },
        {
          "output_type": "stream",
          "name": "stderr",
          "text": [
            "INFO:py_boost.callbacks.callback:Iter 300; Sample 0, F1_score = 0.0; \n"
          ]
        },
        {
          "output_type": "stream",
          "name": "stdout",
          "text": [
            "[19:14:55] Early stopping at iter 301, best iter 1, best_score 0.0\n"
          ]
        },
        {
          "output_type": "stream",
          "name": "stderr",
          "text": [
            "INFO:py_boost.callbacks.callback:Early stopping at iter 301, best iter 1, best_score 0.0\n"
          ]
        },
        {
          "output_type": "stream",
          "name": "stdout",
          "text": [
            "[19:14:56] Stdout logging level is INFO.\n"
          ]
        },
        {
          "output_type": "stream",
          "name": "stderr",
          "text": [
            "INFO:py_boost.callbacks.callback:Stdout logging level is INFO.\n"
          ]
        },
        {
          "output_type": "stream",
          "name": "stdout",
          "text": [
            "[19:14:56] GDBT train starts. Max iter 10000, early stopping rounds 300\n"
          ]
        },
        {
          "output_type": "stream",
          "name": "stderr",
          "text": [
            "INFO:py_boost.callbacks.callback:GDBT train starts. Max iter 10000, early stopping rounds 300\n"
          ]
        },
        {
          "output_type": "stream",
          "name": "stdout",
          "text": [
            "[19:14:56] Iter 0; Sample 0, F1_score = 0.0; \n"
          ]
        },
        {
          "output_type": "stream",
          "name": "stderr",
          "text": [
            "INFO:py_boost.callbacks.callback:Iter 0; Sample 0, F1_score = 0.0; \n"
          ]
        },
        {
          "output_type": "stream",
          "name": "stdout",
          "text": [
            "[19:15:05] Iter 300; Sample 0, F1_score = 0.0; \n"
          ]
        },
        {
          "output_type": "stream",
          "name": "stderr",
          "text": [
            "INFO:py_boost.callbacks.callback:Iter 300; Sample 0, F1_score = 0.0; \n"
          ]
        },
        {
          "output_type": "stream",
          "name": "stdout",
          "text": [
            "[19:15:05] Early stopping at iter 301, best iter 1, best_score 0.0\n"
          ]
        },
        {
          "output_type": "stream",
          "name": "stderr",
          "text": [
            "INFO:py_boost.callbacks.callback:Early stopping at iter 301, best iter 1, best_score 0.0\n"
          ]
        }
      ]
    },
    {
      "cell_type": "markdown",
      "source": [
        "##KNN"
      ],
      "metadata": {
        "id": "nvupeNEV5F3g"
      }
    },
    {
      "cell_type": "code",
      "source": [
        "import numpy as np\n",
        "from sklearn.model_selection import train_test_split\n",
        "from sklearn.preprocessing import StandardScaler\n",
        "from sklearn.neighbors import KNeighborsClassifier\n",
        "from sklearn.metrics import accuracy_score, classification_report\n",
        "from sklearn.metrics import f1_score"
      ],
      "metadata": {
        "id": "eCihUrtI8Y09"
      },
      "execution_count": null,
      "outputs": []
    },
    {
      "cell_type": "code",
      "source": [
        "def train_knn(data, target):\n",
        "  n, b, c = np.shape(data)\n",
        "\n",
        "  X = data.reshape(n, -1)\n",
        "  y = np.argmax(target, axis=1)\n",
        "\n",
        "  X_train, X_test, y_train, y_test = train_test_split(\n",
        "      X, y,\n",
        "      test_size=0.2,\n",
        "      random_state=42\n",
        "  )\n",
        "\n",
        "  scaler = StandardScaler()\n",
        "  X_train_scaled = scaler.fit_transform(X_train)\n",
        "  X_test_scaled = scaler.transform(X_test)\n",
        "\n",
        "  # Create and fit KNN classifier\n",
        "  knn = KNeighborsClassifier(n_neighbors=5)  # Choose an appropriate number of neighbors\n",
        "  knn.fit(X_train_scaled, y_train)\n",
        "\n",
        "  # Predict on test set\n",
        "  y_pred = knn.predict(X_test_scaled)\n",
        "  print(np.shape(y_test))\n",
        "  print(np.shape(y_pred))\n",
        "\n",
        "  f1 = f1_score(y_pred, y_test, average='macro')\n",
        "  print(f1)"
      ],
      "metadata": {
        "id": "9fK6-MRCjiIJ"
      },
      "execution_count": null,
      "outputs": []
    },
    {
      "cell_type": "code",
      "source": [
        "train_knn(features_temp, y_mf)"
      ],
      "metadata": {
        "colab": {
          "base_uri": "https://localhost:8080/"
        },
        "id": "6ZToRLfM8pMG",
        "outputId": "4dbcb30e-7971-4744-afca-76e055cd7814"
      },
      "execution_count": null,
      "outputs": [
        {
          "output_type": "stream",
          "name": "stdout",
          "text": [
            "(1251,)\n",
            "(1251,)\n",
            "0.26025068593198386\n"
          ]
        }
      ]
    },
    {
      "cell_type": "code",
      "source": [
        "train_knn(features_temp, y_bp)"
      ],
      "metadata": {
        "colab": {
          "base_uri": "https://localhost:8080/"
        },
        "id": "C28E1yo_8sGc",
        "outputId": "c510937f-ab1d-4a4c-9366-c15e32140feb"
      },
      "execution_count": null,
      "outputs": [
        {
          "output_type": "stream",
          "name": "stdout",
          "text": [
            "(1251,)\n",
            "(1251,)\n",
            "0.14833532430414337\n"
          ]
        }
      ]
    },
    {
      "cell_type": "code",
      "source": [
        "train_knn(features_temp, y_cc)"
      ],
      "metadata": {
        "id": "5t3UHSpH_MFz",
        "outputId": "5f7efaa6-6c41-4ffc-e181-c014e21c8b2b",
        "colab": {
          "base_uri": "https://localhost:8080/"
        }
      },
      "execution_count": null,
      "outputs": [
        {
          "output_type": "stream",
          "name": "stdout",
          "text": [
            "(1251,)\n",
            "(1251,)\n",
            "0.11922280070084312\n"
          ]
        }
      ]
    },
    {
      "cell_type": "code",
      "source": [],
      "metadata": {
        "id": "jXnL-egN_NNB"
      },
      "execution_count": null,
      "outputs": []
    }
  ]
}